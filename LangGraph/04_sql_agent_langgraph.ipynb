{
 "cells": [
  {
   "cell_type": "code",
   "execution_count": null,
   "id": "27264c5d",
   "metadata": {},
   "outputs": [],
   "source": [
    "# pip install pysqlite3\n",
    "import sqlite3"
   ]
  },
  {
   "cell_type": "code",
   "execution_count": null,
   "id": "8a44396e",
   "metadata": {},
   "outputs": [],
   "source": [
    "connection = sqlite3.connect(\"mysql.db\")"
   ]
  },
  {
   "cell_type": "code",
   "execution_count": null,
   "id": "90e4ac60",
   "metadata": {},
   "outputs": [],
   "source": [
    "connection"
   ]
  },
  {
   "cell_type": "code",
   "execution_count": null,
   "id": "95a6b1dd",
   "metadata": {},
   "outputs": [],
   "source": [
    "create_table_query  = \"\"\"\n",
    "CREATE TABLE IF NOT EXISTS employees(\n",
    "emp_id INTEGER PRIMARY KEY,\n",
    "first_name TEXT NOT NULL,\n",
    "last_name TEXT NOT NULL,\n",
    "email TEXT UNIQUE NOT NULL,\n",
    "hire_date TEXT NOT NULL,\n",
    "salary REAL NOT NULL);\n",
    "\"\"\""
   ]
  },
  {
   "cell_type": "code",
   "execution_count": null,
   "id": "08fd57fb",
   "metadata": {},
   "outputs": [],
   "source": [
    "\n",
    "table_creation_query2=\"\"\"\n",
    "CREATE TABLE IF NOT EXISTS customers (\n",
    "    customer_id INTEGER PRIMARY KEY AUTOINCREMENT,\n",
    "    first_name TEXT NOT NULL,\n",
    "    last_name TEXT NOT NULL,\n",
    "    email TEXT UNIQUE NOT NULL,\n",
    "    phone TEXT\n",
    ");\n",
    "\"\"\""
   ]
  },
  {
   "cell_type": "code",
   "execution_count": null,
   "id": "5824d8c5",
   "metadata": {},
   "outputs": [],
   "source": [
    "\n",
    "table_creation_query3=\"\"\"\n",
    "CREATE TABLE IF NOT EXISTS orders (\n",
    "    order_id INTEGER PRIMARY KEY AUTOINCREMENT,\n",
    "    customer_id INTEGER NOT NULL,\n",
    "    order_date TEXT NOT NULL,\n",
    "    amount REAL NOT NULL,\n",
    "    FOREIGN KEY (customer_id) REFERENCES customers (customer_id)\n",
    ");\n",
    "\n",
    "\"\"\""
   ]
  },
  {
   "cell_type": "code",
   "execution_count": null,
   "id": "a14b4d8e",
   "metadata": {},
   "outputs": [],
   "source": [
    "cursor = connection.cursor()\n",
    "cursor"
   ]
  },
  {
   "cell_type": "code",
   "execution_count": null,
   "id": "59da08fa",
   "metadata": {},
   "outputs": [],
   "source": [
    "cursor.execute(create_table_query)\n",
    "cursor.execute(table_creation_query2)\n",
    "cursor.execute(table_creation_query3)"
   ]
  },
  {
   "cell_type": "code",
   "execution_count": null,
   "id": "52efe8ae",
   "metadata": {},
   "outputs": [],
   "source": [
    "insert_query = \"\"\"\n",
    "INSERT INTO employees (emp_id, first_name, last_name, email, hire_date, salary)\n",
    "VALUES (?, ?, ?, ?, ?, ?);\n",
    "\"\"\"\n",
    "\n",
    "insert_query_customers = \"\"\"\n",
    "INSERT INTO customers (customer_id, first_name, last_name, email, phone)\n",
    "VALUES (?, ?, ?, ?, ?);\n",
    "\"\"\"\n",
    "\n",
    "insert_query_orders = \"\"\"\n",
    "INSERT INTO orders (order_id, customer_id, order_date, amount)\n",
    "VALUES (?, ?, ?, ?);\n",
    "\"\"\""
   ]
  },
  {
   "cell_type": "code",
   "execution_count": null,
   "id": "6b66d4ef",
   "metadata": {},
   "outputs": [],
   "source": [
    "employee_data = [\n",
    "    (1, \"Sunny\", \"Savita\", \"sunny.sv@abc.com\", \"2023-06-01\", 50000.00),\n",
    "    (2, \"Arhun\", \"Meheta\", \"arhun.m@gmail.com\", \"2022-04-15\", 60000.00),\n",
    "    (3, \"Alice\", \"Johnson\", \"alice.johnson@jpg.com\", \"2021-09-30\", 55000.00),\n",
    "    (4, \"Bob\", \"Brown\", \"bob.brown@uio.com\", \"2020-01-20\", 45000.00),\n",
    "    ]\n",
    "\n",
    "customers_data = [\n",
    "    (1, \"John\", \"Doe\", \"john.doe@example.com\", \"1234567890\"),\n",
    "    (2, \"Jane\", \"Smith\", \"jane.smith@example.com\", \"9876543210\"),\n",
    "    (3, \"Emily\", \"Davis\", \"emily.davis@example.com\", \"4567891230\"),\n",
    "    (4, \"Michael\", \"Brown\", \"michael.brown@example.com\", \"7894561230\"),\n",
    "]\n",
    "\n",
    "orders_data = [\n",
    "    (1, 1, \"2023-12-01\", 250.75),\n",
    "    (2, 2, \"2023-11-20\", 150.50),\n",
    "    (3, 3, \"2023-11-25\", 300.00),\n",
    "    (4, 4, \"2023-12-02\", 450.00),\n",
    "]"
   ]
  },
  {
   "cell_type": "code",
   "execution_count": null,
   "id": "ff8a42fa",
   "metadata": {},
   "outputs": [],
   "source": [
    "cursor.executemany(insert_query,employee_data)\n",
    "cursor.executemany(insert_query_customers,customers_data)\n",
    "cursor.executemany(insert_query_orders,orders_data)"
   ]
  },
  {
   "cell_type": "code",
   "execution_count": null,
   "id": "10de98a5",
   "metadata": {},
   "outputs": [],
   "source": [
    "connection.commit()"
   ]
  },
  {
   "cell_type": "code",
   "execution_count": null,
   "id": "2b8a7937",
   "metadata": {},
   "outputs": [],
   "source": [
    "cursor.execute(\"select * from orders;\")"
   ]
  },
  {
   "cell_type": "code",
   "execution_count": null,
   "id": "6f15eb96",
   "metadata": {},
   "outputs": [],
   "source": [
    "cursor.description\n"
   ]
  },
  {
   "cell_type": "code",
   "execution_count": null,
   "id": "a56c3698",
   "metadata": {},
   "outputs": [],
   "source": [
    "cursor.execute(\"select * from orders\")"
   ]
  },
  {
   "cell_type": "code",
   "execution_count": null,
   "id": "68a8a7c0",
   "metadata": {},
   "outputs": [],
   "source": [
    "for row in cursor.fetchall():\n",
    "    print(row)"
   ]
  },
  {
   "cell_type": "code",
   "execution_count": 1,
   "id": "67776c48",
   "metadata": {},
   "outputs": [],
   "source": [
    "from langchain_community.utilities import SQLDatabase  # to connect your databases\n",
    "\n",
    "\n",
    "db = SQLDatabase.from_uri(\"sqlite:///mysql.db\")"
   ]
  },
  {
   "cell_type": "code",
   "execution_count": 2,
   "id": "99254b85",
   "metadata": {},
   "outputs": [
    {
     "data": {
      "text/plain": [
       "'\\nCREATE TABLE customers (\\n\\tcustomer_id INTEGER, \\n\\tfirst_name TEXT NOT NULL, \\n\\tlast_name TEXT NOT NULL, \\n\\temail TEXT NOT NULL, \\n\\tphone TEXT, \\n\\tPRIMARY KEY (customer_id), \\n\\tUNIQUE (email)\\n)\\n\\n/*\\n3 rows from customers table:\\ncustomer_id\\tfirst_name\\tlast_name\\temail\\tphone\\n1\\tJohn\\tDoe\\tjohn.doe@example.com\\t1234567890\\n2\\tJane\\tSmith\\tjane.smith@example.com\\t9876543210\\n3\\tEmily\\tDavis\\temily.davis@example.com\\t4567891230\\n*/\\n\\n\\nCREATE TABLE employees (\\n\\temp_id INTEGER, \\n\\tfirst_name TEXT NOT NULL, \\n\\tlast_name TEXT NOT NULL, \\n\\temail TEXT NOT NULL, \\n\\thire_date TEXT NOT NULL, \\n\\tsalary REAL NOT NULL, \\n\\tPRIMARY KEY (emp_id), \\n\\tUNIQUE (email)\\n)\\n\\n/*\\n3 rows from employees table:\\nemp_id\\tfirst_name\\tlast_name\\temail\\thire_date\\tsalary\\n1\\tSunny\\tSavita\\tsunny.sv@abc.com\\t2023-06-01\\t50000.0\\n2\\tArhun\\tMeheta\\tarhun.m@gmail.com\\t2022-04-15\\t60000.0\\n3\\tAlice\\tJohnson\\talice.johnson@jpg.com\\t2021-09-30\\t55000.0\\n*/\\n\\n\\nCREATE TABLE orders (\\n\\torder_id INTEGER, \\n\\tcustomer_id INTEGER NOT NULL, \\n\\torder_date TEXT NOT NULL, \\n\\tamount REAL NOT NULL, \\n\\tPRIMARY KEY (order_id), \\n\\tFOREIGN KEY(customer_id) REFERENCES customers (customer_id)\\n)\\n\\n/*\\n3 rows from orders table:\\norder_id\\tcustomer_id\\torder_date\\tamount\\n1\\t1\\t2023-12-01\\t250.75\\n2\\t2\\t2023-11-20\\t150.5\\n3\\t3\\t2023-11-25\\t300.0\\n*/'"
      ]
     },
     "execution_count": 2,
     "metadata": {},
     "output_type": "execute_result"
    }
   ],
   "source": [
    "db.table_info"
   ]
  },
  {
   "cell_type": "code",
   "execution_count": 3,
   "id": "b673bd46",
   "metadata": {},
   "outputs": [
    {
     "data": {
      "text/plain": [
       "\"[(1, 1, '2023-12-01', 250.75), (2, 2, '2023-11-20', 150.5), (3, 3, '2023-11-25', 300.0), (4, 4, '2023-12-02', 450.0)]\""
      ]
     },
     "execution_count": 3,
     "metadata": {},
     "output_type": "execute_result"
    }
   ],
   "source": [
    "db.dialect # what is mean by dialect >>> it tell the type of database like sqlite or postgresql or other\n",
    "\n",
    "db.run(\"SELECT * FROM ORDERS\")\n"
   ]
  },
  {
   "cell_type": "code",
   "execution_count": 4,
   "id": "8f72b276",
   "metadata": {},
   "outputs": [
    {
     "data": {
      "text/plain": [
       "{'table_info': '\\nCREATE TABLE customers (\\n\\tcustomer_id INTEGER, \\n\\tfirst_name TEXT NOT NULL, \\n\\tlast_name TEXT NOT NULL, \\n\\temail TEXT NOT NULL, \\n\\tphone TEXT, \\n\\tPRIMARY KEY (customer_id), \\n\\tUNIQUE (email)\\n)\\n\\n/*\\n3 rows from customers table:\\ncustomer_id\\tfirst_name\\tlast_name\\temail\\tphone\\n1\\tJohn\\tDoe\\tjohn.doe@example.com\\t1234567890\\n2\\tJane\\tSmith\\tjane.smith@example.com\\t9876543210\\n3\\tEmily\\tDavis\\temily.davis@example.com\\t4567891230\\n*/\\n\\n\\nCREATE TABLE employees (\\n\\temp_id INTEGER, \\n\\tfirst_name TEXT NOT NULL, \\n\\tlast_name TEXT NOT NULL, \\n\\temail TEXT NOT NULL, \\n\\thire_date TEXT NOT NULL, \\n\\tsalary REAL NOT NULL, \\n\\tPRIMARY KEY (emp_id), \\n\\tUNIQUE (email)\\n)\\n\\n/*\\n3 rows from employees table:\\nemp_id\\tfirst_name\\tlast_name\\temail\\thire_date\\tsalary\\n1\\tSunny\\tSavita\\tsunny.sv@abc.com\\t2023-06-01\\t50000.0\\n2\\tArhun\\tMeheta\\tarhun.m@gmail.com\\t2022-04-15\\t60000.0\\n3\\tAlice\\tJohnson\\talice.johnson@jpg.com\\t2021-09-30\\t55000.0\\n*/\\n\\n\\nCREATE TABLE orders (\\n\\torder_id INTEGER, \\n\\tcustomer_id INTEGER NOT NULL, \\n\\torder_date TEXT NOT NULL, \\n\\tamount REAL NOT NULL, \\n\\tPRIMARY KEY (order_id), \\n\\tFOREIGN KEY(customer_id) REFERENCES customers (customer_id)\\n)\\n\\n/*\\n3 rows from orders table:\\norder_id\\tcustomer_id\\torder_date\\tamount\\n1\\t1\\t2023-12-01\\t250.75\\n2\\t2\\t2023-11-20\\t150.5\\n3\\t3\\t2023-11-25\\t300.0\\n*/',\n",
       " 'table_names': 'customers, employees, orders'}"
      ]
     },
     "execution_count": 4,
     "metadata": {},
     "output_type": "execute_result"
    }
   ],
   "source": [
    "db.get_context()"
   ]
  },
  {
   "cell_type": "code",
   "execution_count": 5,
   "id": "a9d06a54",
   "metadata": {},
   "outputs": [
    {
     "data": {
      "text/plain": [
       "['customers', 'employees', 'orders']"
      ]
     },
     "execution_count": 5,
     "metadata": {},
     "output_type": "execute_result"
    }
   ],
   "source": [
    "db.get_usable_table_names()"
   ]
  },
  {
   "cell_type": "code",
   "execution_count": 6,
   "id": "8772bd9c",
   "metadata": {},
   "outputs": [
    {
     "data": {
      "text/plain": [
       "'\\nCREATE TABLE customers (\\n\\tcustomer_id INTEGER, \\n\\tfirst_name TEXT NOT NULL, \\n\\tlast_name TEXT NOT NULL, \\n\\temail TEXT NOT NULL, \\n\\tphone TEXT, \\n\\tPRIMARY KEY (customer_id), \\n\\tUNIQUE (email)\\n)\\n\\n/*\\n3 rows from customers table:\\ncustomer_id\\tfirst_name\\tlast_name\\temail\\tphone\\n1\\tJohn\\tDoe\\tjohn.doe@example.com\\t1234567890\\n2\\tJane\\tSmith\\tjane.smith@example.com\\t9876543210\\n3\\tEmily\\tDavis\\temily.davis@example.com\\t4567891230\\n*/\\n\\n\\nCREATE TABLE employees (\\n\\temp_id INTEGER, \\n\\tfirst_name TEXT NOT NULL, \\n\\tlast_name TEXT NOT NULL, \\n\\temail TEXT NOT NULL, \\n\\thire_date TEXT NOT NULL, \\n\\tsalary REAL NOT NULL, \\n\\tPRIMARY KEY (emp_id), \\n\\tUNIQUE (email)\\n)\\n\\n/*\\n3 rows from employees table:\\nemp_id\\tfirst_name\\tlast_name\\temail\\thire_date\\tsalary\\n1\\tSunny\\tSavita\\tsunny.sv@abc.com\\t2023-06-01\\t50000.0\\n2\\tArhun\\tMeheta\\tarhun.m@gmail.com\\t2022-04-15\\t60000.0\\n3\\tAlice\\tJohnson\\talice.johnson@jpg.com\\t2021-09-30\\t55000.0\\n*/\\n\\n\\nCREATE TABLE orders (\\n\\torder_id INTEGER, \\n\\tcustomer_id INTEGER NOT NULL, \\n\\torder_date TEXT NOT NULL, \\n\\tamount REAL NOT NULL, \\n\\tPRIMARY KEY (order_id), \\n\\tFOREIGN KEY(customer_id) REFERENCES customers (customer_id)\\n)\\n\\n/*\\n3 rows from orders table:\\norder_id\\tcustomer_id\\torder_date\\tamount\\n1\\t1\\t2023-12-01\\t250.75\\n2\\t2\\t2023-11-20\\t150.5\\n3\\t3\\t2023-11-25\\t300.0\\n*/'"
      ]
     },
     "execution_count": 6,
     "metadata": {},
     "output_type": "execute_result"
    }
   ],
   "source": [
    "db.get_table_info()"
   ]
  },
  {
   "cell_type": "code",
   "execution_count": 7,
   "id": "41f65e21",
   "metadata": {},
   "outputs": [
    {
     "data": {
      "text/plain": [
       "'\\nCREATE TABLE customers (\\n\\tcustomer_id INTEGER, \\n\\tfirst_name TEXT NOT NULL, \\n\\tlast_name TEXT NOT NULL, \\n\\temail TEXT NOT NULL, \\n\\tphone TEXT, \\n\\tPRIMARY KEY (customer_id), \\n\\tUNIQUE (email)\\n)\\n\\n/*\\n3 rows from customers table:\\ncustomer_id\\tfirst_name\\tlast_name\\temail\\tphone\\n1\\tJohn\\tDoe\\tjohn.doe@example.com\\t1234567890\\n2\\tJane\\tSmith\\tjane.smith@example.com\\t9876543210\\n3\\tEmily\\tDavis\\temily.davis@example.com\\t4567891230\\n*/\\n\\n\\nCREATE TABLE employees (\\n\\temp_id INTEGER, \\n\\tfirst_name TEXT NOT NULL, \\n\\tlast_name TEXT NOT NULL, \\n\\temail TEXT NOT NULL, \\n\\thire_date TEXT NOT NULL, \\n\\tsalary REAL NOT NULL, \\n\\tPRIMARY KEY (emp_id), \\n\\tUNIQUE (email)\\n)\\n\\n/*\\n3 rows from employees table:\\nemp_id\\tfirst_name\\tlast_name\\temail\\thire_date\\tsalary\\n1\\tSunny\\tSavita\\tsunny.sv@abc.com\\t2023-06-01\\t50000.0\\n2\\tArhun\\tMeheta\\tarhun.m@gmail.com\\t2022-04-15\\t60000.0\\n3\\tAlice\\tJohnson\\talice.johnson@jpg.com\\t2021-09-30\\t55000.0\\n*/\\n\\n\\nCREATE TABLE orders (\\n\\torder_id INTEGER, \\n\\tcustomer_id INTEGER NOT NULL, \\n\\torder_date TEXT NOT NULL, \\n\\tamount REAL NOT NULL, \\n\\tPRIMARY KEY (order_id), \\n\\tFOREIGN KEY(customer_id) REFERENCES customers (customer_id)\\n)\\n\\n/*\\n3 rows from orders table:\\norder_id\\tcustomer_id\\torder_date\\tamount\\n1\\t1\\t2023-12-01\\t250.75\\n2\\t2\\t2023-11-20\\t150.5\\n3\\t3\\t2023-11-25\\t300.0\\n*/'"
      ]
     },
     "execution_count": 7,
     "metadata": {},
     "output_type": "execute_result"
    }
   ],
   "source": [
    "db.get_table_info_no_throw()"
   ]
  },
  {
   "cell_type": "code",
   "execution_count": 8,
   "id": "67f5a5ad",
   "metadata": {},
   "outputs": [
    {
     "data": {
      "text/plain": [
       "<bound method SQLDatabase.run_no_throw of <langchain_community.utilities.sql_database.SQLDatabase object at 0x00000222D87CC080>>"
      ]
     },
     "execution_count": 8,
     "metadata": {},
     "output_type": "execute_result"
    }
   ],
   "source": [
    "db.run_no_throw"
   ]
  },
  {
   "cell_type": "code",
   "execution_count": 9,
   "id": "55d4a3fb",
   "metadata": {},
   "outputs": [
    {
     "data": {
      "text/plain": [
       "\"[(1, 'John', 'Doe', 'john.doe@example.com', '1234567890'), (2, 'Jane', 'Smith', 'jane.smith@example.com', '9876543210'), (3, 'Emily', 'Davis', 'emily.davis@example.com', '4567891230'), (4, 'Michael', 'Brown', 'michael.brown@example.com', '7894561230')]\""
      ]
     },
     "execution_count": 9,
     "metadata": {},
     "output_type": "execute_result"
    }
   ],
   "source": [
    "db.run(\"select * from customers\")"
   ]
  },
  {
   "cell_type": "code",
   "execution_count": 117,
   "id": "9350a413",
   "metadata": {},
   "outputs": [
    {
     "name": "stdout",
     "output_type": "stream",
     "text": [
      "Note: you may need to restart the kernel to use updated packages.\n"
     ]
    }
   ],
   "source": [
    "pip freeze>requirement.txt"
   ]
  },
  {
   "cell_type": "code",
   "execution_count": null,
   "id": "d479d1a8",
   "metadata": {},
   "outputs": [],
   "source": [
    "from langchain_groq import ChatGroq\n",
    " \n",
    "import os\n",
    "\n",
    "from dotenv import load_dotenv\n",
    "\n",
    "load_dotenv()\n",
    "\n",
    "os.environ['GROQ_API_KEY'] = os.getenv(\"GROQ_API_KEY\")\n",
    "groq_llm = ChatGroq(model=\"llama3-70b-8192\")\n",
    "\n",
    "\n"
   ]
  },
  {
   "cell_type": "code",
   "execution_count": 11,
   "id": "925d8024",
   "metadata": {},
   "outputs": [],
   "source": [
    "groq_llm = ChatGroq(model=\"llama3-70b-8192\")"
   ]
  },
  {
   "cell_type": "code",
   "execution_count": 12,
   "id": "9010b831",
   "metadata": {},
   "outputs": [
    {
     "data": {
      "text/plain": [
       "AIMessage(content=\"Hey there! It's nice to meet you. Is there something I can help you with, or would you like to chat?\", additional_kwargs={}, response_metadata={'token_usage': {'completion_tokens': 27, 'prompt_tokens': 12, 'total_tokens': 39, 'completion_time': 0.077142857, 'prompt_time': 0.000118348, 'queue_time': 0.052721672000000004, 'total_time': 0.077261205}, 'model_name': 'llama3-70b-8192', 'system_fingerprint': 'fp_dd4ae1c591', 'finish_reason': 'stop', 'logprobs': None}, id='run--0b7be8c6-bc04-4c1c-b730-dba9d887b54b-0', usage_metadata={'input_tokens': 12, 'output_tokens': 27, 'total_tokens': 39})"
      ]
     },
     "execution_count": 12,
     "metadata": {},
     "output_type": "execute_result"
    }
   ],
   "source": [
    "groq_llm.invoke(\"hey there\")"
   ]
  },
  {
   "cell_type": "code",
   "execution_count": 13,
   "id": "e56b11ba",
   "metadata": {},
   "outputs": [],
   "source": [
    "from langchain_community.agent_toolkits import SQLDatabaseToolkit # it has multiple tools wrapper in side \n"
   ]
  },
  {
   "cell_type": "code",
   "execution_count": null,
   "id": "7f8e1a18",
   "metadata": {},
   "outputs": [],
   "source": [
    "toolkit = SQLDatabaseToolkit(db=db,llm=groq_llm)\n"
   ]
  },
  {
   "cell_type": "code",
   "execution_count": 15,
   "id": "a88b730d",
   "metadata": {},
   "outputs": [
    {
     "name": "stdout",
     "output_type": "stream",
     "text": [
      "('db', <langchain_community.utilities.sql_database.SQLDatabase object at 0x00000222D87CC080>)\n",
      "('llm', ChatGroq(client=<groq.resources.chat.completions.Completions object at 0x00000222DABFCAD0>, async_client=<groq.resources.chat.completions.AsyncCompletions object at 0x00000222DC8BF620>, model_name='llama3-70b-8192', model_kwargs={}, groq_api_key=SecretStr('**********')))\n"
     ]
    }
   ],
   "source": [
    "for j in toolkit:\n",
    "    print(j)"
   ]
  },
  {
   "cell_type": "code",
   "execution_count": 16,
   "id": "0bee0281",
   "metadata": {},
   "outputs": [
    {
     "data": {
      "text/plain": [
       "{'table_info': '\\nCREATE TABLE customers (\\n\\tcustomer_id INTEGER, \\n\\tfirst_name TEXT NOT NULL, \\n\\tlast_name TEXT NOT NULL, \\n\\temail TEXT NOT NULL, \\n\\tphone TEXT, \\n\\tPRIMARY KEY (customer_id), \\n\\tUNIQUE (email)\\n)\\n\\n/*\\n3 rows from customers table:\\ncustomer_id\\tfirst_name\\tlast_name\\temail\\tphone\\n1\\tJohn\\tDoe\\tjohn.doe@example.com\\t1234567890\\n2\\tJane\\tSmith\\tjane.smith@example.com\\t9876543210\\n3\\tEmily\\tDavis\\temily.davis@example.com\\t4567891230\\n*/\\n\\n\\nCREATE TABLE employees (\\n\\temp_id INTEGER, \\n\\tfirst_name TEXT NOT NULL, \\n\\tlast_name TEXT NOT NULL, \\n\\temail TEXT NOT NULL, \\n\\thire_date TEXT NOT NULL, \\n\\tsalary REAL NOT NULL, \\n\\tPRIMARY KEY (emp_id), \\n\\tUNIQUE (email)\\n)\\n\\n/*\\n3 rows from employees table:\\nemp_id\\tfirst_name\\tlast_name\\temail\\thire_date\\tsalary\\n1\\tSunny\\tSavita\\tsunny.sv@abc.com\\t2023-06-01\\t50000.0\\n2\\tArhun\\tMeheta\\tarhun.m@gmail.com\\t2022-04-15\\t60000.0\\n3\\tAlice\\tJohnson\\talice.johnson@jpg.com\\t2021-09-30\\t55000.0\\n*/\\n\\n\\nCREATE TABLE orders (\\n\\torder_id INTEGER, \\n\\tcustomer_id INTEGER NOT NULL, \\n\\torder_date TEXT NOT NULL, \\n\\tamount REAL NOT NULL, \\n\\tPRIMARY KEY (order_id), \\n\\tFOREIGN KEY(customer_id) REFERENCES customers (customer_id)\\n)\\n\\n/*\\n3 rows from orders table:\\norder_id\\tcustomer_id\\torder_date\\tamount\\n1\\t1\\t2023-12-01\\t250.75\\n2\\t2\\t2023-11-20\\t150.5\\n3\\t3\\t2023-11-25\\t300.0\\n*/',\n",
       " 'table_names': 'customers, employees, orders'}"
      ]
     },
     "execution_count": 16,
     "metadata": {},
     "output_type": "execute_result"
    }
   ],
   "source": [
    "toolkit.get_context()"
   ]
  },
  {
   "cell_type": "code",
   "execution_count": 17,
   "id": "161a5e0c",
   "metadata": {},
   "outputs": [
    {
     "data": {
      "text/plain": [
       "[QuerySQLDatabaseTool(description=\"Input to this tool is a detailed and correct SQL query, output is a result from the database. If the query is not correct, an error message will be returned. If an error is returned, rewrite the query, check the query, and try again. If you encounter an issue with Unknown column 'xxxx' in 'field list', use sql_db_schema to query the correct table fields.\", db=<langchain_community.utilities.sql_database.SQLDatabase object at 0x00000222D87CC080>),\n",
       " InfoSQLDatabaseTool(description='Input to this tool is a comma-separated list of tables, output is the schema and sample rows for those tables. Be sure that the tables actually exist by calling sql_db_list_tables first! Example Input: table1, table2, table3', db=<langchain_community.utilities.sql_database.SQLDatabase object at 0x00000222D87CC080>),\n",
       " ListSQLDatabaseTool(db=<langchain_community.utilities.sql_database.SQLDatabase object at 0x00000222D87CC080>),\n",
       " QuerySQLCheckerTool(description='Use this tool to double check if your query is correct before executing it. Always use this tool before executing a query with sql_db_query!', db=<langchain_community.utilities.sql_database.SQLDatabase object at 0x00000222D87CC080>, llm=ChatGroq(client=<groq.resources.chat.completions.Completions object at 0x00000222DABFCAD0>, async_client=<groq.resources.chat.completions.AsyncCompletions object at 0x00000222DC8BF620>, model_name='llama3-70b-8192', model_kwargs={}, groq_api_key=SecretStr('**********')), llm_chain=LLMChain(verbose=False, prompt=PromptTemplate(input_variables=['dialect', 'query'], input_types={}, partial_variables={}, template='\\n{query}\\nDouble check the {dialect} query above for common mistakes, including:\\n- Using NOT IN with NULL values\\n- Using UNION when UNION ALL should have been used\\n- Using BETWEEN for exclusive ranges\\n- Data type mismatch in predicates\\n- Properly quoting identifiers\\n- Using the correct number of arguments for functions\\n- Casting to the correct data type\\n- Using the proper columns for joins\\n\\nIf there are any of the above mistakes, rewrite the query. If there are no mistakes, just reproduce the original query.\\n\\nOutput the final SQL query only.\\n\\nSQL Query: '), llm=ChatGroq(client=<groq.resources.chat.completions.Completions object at 0x00000222DABFCAD0>, async_client=<groq.resources.chat.completions.AsyncCompletions object at 0x00000222DC8BF620>, model_name='llama3-70b-8192', model_kwargs={}, groq_api_key=SecretStr('**********')), output_parser=StrOutputParser(), llm_kwargs={}))]"
      ]
     },
     "execution_count": 17,
     "metadata": {},
     "output_type": "execute_result"
    }
   ],
   "source": [
    "tools = toolkit.get_tools()\n",
    "tools\n",
    "\n",
    "\n",
    "# it has the multiple tool desinged inside the\n",
    "\n"
   ]
  },
  {
   "cell_type": "code",
   "execution_count": 18,
   "id": "8c202965",
   "metadata": {},
   "outputs": [
    {
     "name": "stdout",
     "output_type": "stream",
     "text": [
      "Tools :  sql_db_query\n",
      "description=\"Input to this tool is a detailed and correct SQL query, output is a result from the database. If the query is not correct, an error message will be returned. If an error is returned, rewrite the query, check the query, and try again. If you encounter an issue with Unknown column 'xxxx' in 'field list', use sql_db_schema to query the correct table fields.\" db=<langchain_community.utilities.sql_database.SQLDatabase object at 0x00000222D87CC080>\n",
      "****************************************************************************************************\n",
      "\n",
      "Tools :  sql_db_schema\n",
      "description='Input to this tool is a comma-separated list of tables, output is the schema and sample rows for those tables. Be sure that the tables actually exist by calling sql_db_list_tables first! Example Input: table1, table2, table3' db=<langchain_community.utilities.sql_database.SQLDatabase object at 0x00000222D87CC080>\n",
      "****************************************************************************************************\n",
      "\n",
      "Tools :  sql_db_list_tables\n",
      "db=<langchain_community.utilities.sql_database.SQLDatabase object at 0x00000222D87CC080>\n",
      "****************************************************************************************************\n",
      "\n",
      "Tools :  sql_db_query_checker\n",
      "description='Use this tool to double check if your query is correct before executing it. Always use this tool before executing a query with sql_db_query!' db=<langchain_community.utilities.sql_database.SQLDatabase object at 0x00000222D87CC080> llm=ChatGroq(client=<groq.resources.chat.completions.Completions object at 0x00000222DABFCAD0>, async_client=<groq.resources.chat.completions.AsyncCompletions object at 0x00000222DC8BF620>, model_name='llama3-70b-8192', model_kwargs={}, groq_api_key=SecretStr('**********')) llm_chain=LLMChain(verbose=False, prompt=PromptTemplate(input_variables=['dialect', 'query'], input_types={}, partial_variables={}, template='\\n{query}\\nDouble check the {dialect} query above for common mistakes, including:\\n- Using NOT IN with NULL values\\n- Using UNION when UNION ALL should have been used\\n- Using BETWEEN for exclusive ranges\\n- Data type mismatch in predicates\\n- Properly quoting identifiers\\n- Using the correct number of arguments for functions\\n- Casting to the correct data type\\n- Using the proper columns for joins\\n\\nIf there are any of the above mistakes, rewrite the query. If there are no mistakes, just reproduce the original query.\\n\\nOutput the final SQL query only.\\n\\nSQL Query: '), llm=ChatGroq(client=<groq.resources.chat.completions.Completions object at 0x00000222DABFCAD0>, async_client=<groq.resources.chat.completions.AsyncCompletions object at 0x00000222DC8BF620>, model_name='llama3-70b-8192', model_kwargs={}, groq_api_key=SecretStr('**********')), output_parser=StrOutputParser(), llm_kwargs={})\n",
      "****************************************************************************************************\n",
      "\n"
     ]
    }
   ],
   "source": [
    "for j in  tools:\n",
    "    print(\"Tools : \",j.name)\n",
    "    print(j)\n",
    "    print(\"*\"*100)\n",
    "    print()"
   ]
  },
  {
   "cell_type": "markdown",
   "id": "619c493e",
   "metadata": {},
   "source": [
    "# Tools :  sql_db_list_tables"
   ]
  },
  {
   "cell_type": "code",
   "execution_count": 19,
   "id": "1a29ff39",
   "metadata": {},
   "outputs": [
    {
     "data": {
      "text/plain": [
       "'customers, employees, orders'"
      ]
     },
     "execution_count": 19,
     "metadata": {},
     "output_type": "execute_result"
    }
   ],
   "source": [
    "list_tables_tool = next((tool for tool in tools if tool.name == \"sql_db_list_tables\"), None)\n",
    "\n",
    "list_tables_tool.invoke(\"tables\")"
   ]
  },
  {
   "cell_type": "code",
   "execution_count": 20,
   "id": "01acf36f",
   "metadata": {},
   "outputs": [
    {
     "name": "stdout",
     "output_type": "stream",
     "text": [
      "\n",
      "CREATE TABLE employees (\n",
      "\temp_id INTEGER, \n",
      "\tfirst_name TEXT NOT NULL, \n",
      "\tlast_name TEXT NOT NULL, \n",
      "\temail TEXT NOT NULL, \n",
      "\thire_date TEXT NOT NULL, \n",
      "\tsalary REAL NOT NULL, \n",
      "\tPRIMARY KEY (emp_id), \n",
      "\tUNIQUE (email)\n",
      ")\n",
      "\n",
      "/*\n",
      "3 rows from employees table:\n",
      "emp_id\tfirst_name\tlast_name\temail\thire_date\tsalary\n",
      "1\tSunny\tSavita\tsunny.sv@abc.com\t2023-06-01\t50000.0\n",
      "2\tArhun\tMeheta\tarhun.m@gmail.com\t2022-04-15\t60000.0\n",
      "3\tAlice\tJohnson\talice.johnson@jpg.com\t2021-09-30\t55000.0\n",
      "*/\n"
     ]
    }
   ],
   "source": [
    "get_schema_tool = next((tool for tool in tools if tool.name == \"sql_db_schema\"), None)\n",
    "print(get_schema_tool.invoke(\"employees\"))"
   ]
  },
  {
   "cell_type": "markdown",
   "id": "568567ac",
   "metadata": {},
   "source": [
    "# bind tool with llm"
   ]
  },
  {
   "cell_type": "code",
   "execution_count": 21,
   "id": "65678120",
   "metadata": {},
   "outputs": [],
   "source": [
    "llm_to_get_schema = groq_llm.bind_tools([get_schema_tool])"
   ]
  },
  {
   "cell_type": "code",
   "execution_count": 22,
   "id": "e9c9649b",
   "metadata": {},
   "outputs": [
    {
     "data": {
      "text/plain": [
       "AIMessage(content='', additional_kwargs={'tool_calls': [{'id': 'h7v2wph58', 'function': {'arguments': '{\"table_names\":\"employees\"}', 'name': 'sql_db_schema'}, 'type': 'function'}]}, response_metadata={'token_usage': {'completion_tokens': 68, 'prompt_tokens': 960, 'total_tokens': 1028, 'completion_time': 0.194285714, 'prompt_time': 0.031230306, 'queue_time': 0.057558224000000005, 'total_time': 0.22551602}, 'model_name': 'llama3-70b-8192', 'system_fingerprint': 'fp_dd4ae1c591', 'finish_reason': 'tool_calls', 'logprobs': None}, id='run--946429cb-fbec-4a92-a4f6-053b1153f187-0', tool_calls=[{'name': 'sql_db_schema', 'args': {'table_names': 'employees'}, 'id': 'h7v2wph58', 'type': 'tool_call'}], usage_metadata={'input_tokens': 960, 'output_tokens': 68, 'total_tokens': 1028})"
      ]
     },
     "execution_count": 22,
     "metadata": {},
     "output_type": "execute_result"
    }
   ],
   "source": [
    "llm_to_get_schema.invoke(\"give schema of table employees\")"
   ]
  },
  {
   "attachments": {
    "image.png": {
     "image/png": "[encoded data removed]"
    }
   },
   "cell_type": "markdown",
   "id": "4f49bd99",
   "metadata": {},
   "source": [
    "![image.png](attachment:image.png)"
   ]
  },
  {
   "attachments": {
    "image.png": {
     "image/png": "[encoded data removed]"
    }
   },
   "cell_type": "markdown",
   "id": "fe26897e",
   "metadata": {},
   "source": [
    "![image.png](attachment:image.png)"
   ]
  },
  {
   "cell_type": "code",
   "execution_count": null,
   "id": "565f15ef",
   "metadata": {},
   "outputs": [],
   "source": [
    "\n",
    "from langchain_core.tools import tool\n",
    "@tool\n",
    "def query_to_database(query:str)->str:\n",
    "    \"\"\"\n",
    "    Execute a SQL query against the database and return the result.\n",
    "    If the query is invalid or returns no result, an error message will be returned.\n",
    "    In case of an error, the user is advised to rewrite the query and try again.\n",
    "    \"\"\"\n",
    "    result=db.run_no_throw(query)\n",
    "    # print(result)\n",
    "    if not result:\n",
    "        return \"Error: Query failed. Please rewrite your query and try again.\"\n",
    "    return result\n",
    "\n"
   ]
  },
  {
   "cell_type": "code",
   "execution_count": null,
   "id": "2bf0d6b2",
   "metadata": {},
   "outputs": [],
   "source": []
  },
  {
   "cell_type": "code",
   "execution_count": 24,
   "id": "2ab5a2a0",
   "metadata": {},
   "outputs": [
    {
     "data": {
      "text/plain": [
       "\"[(1, 'Sunny', 'Savita', 'sunny.sv@abc.com', '2023-06-01', 50000.0), (2, 'Arhun', 'Meheta', 'arhun.m@gmail.com', '2022-04-15', 60000.0), (3, 'Alice', 'Johnson', 'alice.johnson@jpg.com', '2021-09-30', 55000.0), (4, 'Bob', 'Brown', 'bob.brown@uio.com', '2020-01-20', 45000.0)]\""
      ]
     },
     "execution_count": 24,
     "metadata": {},
     "output_type": "execute_result"
    }
   ],
   "source": [
    "query_to_database.invoke(\"SELECT * FROM Employees;\")\n"
   ]
  },
  {
   "cell_type": "code",
   "execution_count": null,
   "id": "5894f2c1",
   "metadata": {},
   "outputs": [],
   "source": [
    "run_no_throw_tool = groq_llm.bind_tools([query_to_database])\n",
    "\n"
   ]
  },
  {
   "cell_type": "code",
   "execution_count": 28,
   "id": "23a71e1b",
   "metadata": {},
   "outputs": [
    {
     "data": {
      "text/plain": [
       "AIMessage(content='', additional_kwargs={'tool_calls': [{'id': 'pwq82tenq', 'function': {'arguments': '{\"query\":\"SELECT * FROM Employees;\"}', 'name': 'query_to_database'}, 'type': 'function'}]}, response_metadata={'token_usage': {'completion_tokens': 48, 'prompt_tokens': 924, 'total_tokens': 972, 'completion_time': 0.159030919, 'prompt_time': 0.038489201, 'queue_time': 0.053563168999999994, 'total_time': 0.19752012}, 'model_name': 'llama3-70b-8192', 'system_fingerprint': 'fp_dd4ae1c591', 'finish_reason': 'tool_calls', 'logprobs': None}, id='run--a500f42e-73f1-4895-8e0d-4a220e96cb44-0', tool_calls=[{'name': 'query_to_database', 'args': {'query': 'SELECT * FROM Employees;'}, 'id': 'pwq82tenq', 'type': 'tool_call'}], usage_metadata={'input_tokens': 924, 'output_tokens': 48, 'total_tokens': 972})"
      ]
     },
     "execution_count": 28,
     "metadata": {},
     "output_type": "execute_result"
    }
   ],
   "source": [
    "run_no_throw_tool.invoke(\"SELECT * FROM Employees;\")"
   ]
  },
  {
   "cell_type": "code",
   "execution_count": null,
   "id": "2c557c0a",
   "metadata": {},
   "outputs": [],
   "source": [
    "# AIMessage(content='', additional_kwargs={'tool_calls': [{'id': 'call_srbc', 'function': {'arguments': '{\"query\":\"SELECT * FROM Employees;\"}', 'name': 'query_to_database'}, 'type': 'function'}]}, response_metadata={'token_usage': {'completion_tokens': 70, 'prompt_tokens': 1869, 'total_tokens': 1939, 'completion_time': 0.2026226, 'prompt_time': 0.068649967, 'queue_time': -0.209639997, 'total_time': 0.271272567}, 'model_name': 'llama3-70b-8192', 'system_fingerprint': 'fp_dd4ae1c591', 'finish_reason': 'tool_calls', 'logprobs': None}, id='run--840a9b40-b2a5-41d6-bc56-4a9c0ab445b0-0', tool_calls=[{'name': 'query_to_database', 'args': {'query': 'SELECT * FROM Employees;'}, 'id': 'call_srbc', 'type': 'tool_call'}], usage_metadata={'input_tokens': 1869, 'output_tokens': 70, 'total_tokens': 1939})"
   ]
  },
  {
   "cell_type": "code",
   "execution_count": 29,
   "id": "6b0fa32a",
   "metadata": {},
   "outputs": [],
   "source": [
    "from langchain_core.prompts import ChatPromptTemplate"
   ]
  },
  {
   "cell_type": "code",
   "execution_count": null,
   "id": "e797ccaa",
   "metadata": {},
   "outputs": [],
   "source": [
    "query_check_system = \"\"\"You are a SQL expert. Carefully review the SQL query for common mistakes, including:\n",
    "\n",
    "Issues with NULL handling (e.g., NOT IN with NULLs)\n",
    "Improper use of UNION instead of UNION ALL\n",
    "Incorrect use of BETWEEN for exclusive ranges\n",
    "Data type mismatches or incorrect casting\n",
    "Quoting identifiers improperly\n",
    "Incorrect number of arguments in functions\n",
    "Errors in JOIN conditions\n",
    "\n",
    "If you find any mistakes, rewrite the query to fix them. If it's correct, reproduce it as is.\"\"\"\n",
    "\n"
   ]
  },
  {
   "cell_type": "code",
   "execution_count": null,
   "id": "f0c67d0b",
   "metadata": {},
   "outputs": [],
   "source": [
    "from langchain_core.prompts import MessagesPlaceholder\n",
    "\n",
    "query_check_prompt = ChatPromptTemplate.from_messages([(\"system\", query_check_system), (\"placeholder\", \"{messages}\")])\n"
   ]
  },
  {
   "cell_type": "code",
   "execution_count": null,
   "id": "7663f015",
   "metadata": {},
   "outputs": [],
   "source": [
    "# ChatPromptTemplate([(\"system\", query_check_system), (\"placeholder\", \"{messages}\")])"
   ]
  },
  {
   "cell_type": "code",
   "execution_count": null,
   "id": "cb1d92ae",
   "metadata": {},
   "outputs": [],
   "source": [
    "chain_for_run_no_throw = query_check_prompt |  run_no_throw_tool\n"
   ]
  },
  {
   "cell_type": "code",
   "execution_count": 33,
   "id": "2e1ac8d6",
   "metadata": {},
   "outputs": [
    {
     "data": {
      "text/plain": [
       "AIMessage(content='', additional_kwargs={'tool_calls': [{'id': 'yave9qt7g', 'function': {'arguments': '{\"query\":\"\"}', 'name': 'query_to_database'}, 'type': 'function'}]}, response_metadata={'token_usage': {'completion_tokens': 61, 'prompt_tokens': 1018, 'total_tokens': 1079, 'completion_time': 0.174285714, 'prompt_time': 0.033114887, 'queue_time': 0.053477004, 'total_time': 0.207400601}, 'model_name': 'llama3-70b-8192', 'system_fingerprint': 'fp_dd4ae1c591', 'finish_reason': 'tool_calls', 'logprobs': None}, id='run--dd88ea09-aa25-4e74-b64b-e3f5284a5295-0', tool_calls=[{'name': 'query_to_database', 'args': {'query': ''}, 'id': 'yave9qt7g', 'type': 'tool_call'}], usage_metadata={'input_tokens': 1018, 'output_tokens': 61, 'total_tokens': 1079})"
      ]
     },
     "execution_count": 33,
     "metadata": {},
     "output_type": "execute_result"
    }
   ],
   "source": [
    "# chain_for_run_no_throw.invoke(\"hellow\")\n",
    "\n",
    "chain_for_run_no_throw.invoke({\"messages\": [(\"user\", \"hi\")]})"
   ]
  },
  {
   "cell_type": "code",
   "execution_count": 34,
   "id": "4a97f3be",
   "metadata": {},
   "outputs": [
    {
     "data": {
      "text/plain": [
       "AIMessage(content='', additional_kwargs={'tool_calls': [{'id': 'v7f31vj29', 'function': {'arguments': '{\"query\":\"SELECT * FROM ORDERS\"}', 'name': 'query_to_database'}, 'type': 'function'}]}, response_metadata={'token_usage': {'completion_tokens': 67, 'prompt_tokens': 1022, 'total_tokens': 1089, 'completion_time': 0.191428571, 'prompt_time': 0.033719964, 'queue_time': 0.058488447000000006, 'total_time': 0.225148535}, 'model_name': 'llama3-70b-8192', 'system_fingerprint': 'fp_dd4ae1c591', 'finish_reason': 'tool_calls', 'logprobs': None}, id='run--ee04d1a9-29dc-4531-8dea-27bd45b3a5d4-0', tool_calls=[{'name': 'query_to_database', 'args': {'query': 'SELECT * FROM ORDERS'}, 'id': 'v7f31vj29', 'type': 'tool_call'}], usage_metadata={'input_tokens': 1022, 'output_tokens': 67, 'total_tokens': 1089})"
      ]
     },
     "execution_count": 34,
     "metadata": {},
     "output_type": "execute_result"
    }
   ],
   "source": [
    "chain_for_run_no_throw.invoke({\"messages\": [(\"user\", \"SELECT * FROM ORDERS\")]})"
   ]
  },
  {
   "cell_type": "code",
   "execution_count": 63,
   "id": "27378adc",
   "metadata": {},
   "outputs": [],
   "source": [
    "from typing import Annotated\n",
    "from langgraph.graph.message import add_messages, AnyMessage\n",
    "from pydantic import BaseModel,Field\n",
    "from langchain_core.pydantic_v1 import BaseModel,Field\n",
    "\n",
    "\n",
    "\n",
    "class SubmitFinalAnswer(BaseModel):\n",
    "    \"\"\"Submit the final answer to the user based on the query results.\"\"\"\n",
    "    final_answer: str = Field(..., description=\"The final answer to the user\")\n",
    "    \n",
    "llm_with_final_answer=groq_llm.bind_tools([SubmitFinalAnswer])\n"
   ]
  },
  {
   "cell_type": "code",
   "execution_count": 64,
   "id": "c3e957a5",
   "metadata": {},
   "outputs": [
    {
     "data": {
      "text/plain": [
       "AIMessage(content='', additional_kwargs={'tool_calls': [{'id': 'zzrqea8k5', 'function': {'arguments': '{\"final_answer\":\"Hello!\"}', 'name': 'SubmitFinalAnswer'}, 'type': 'function'}]}, response_metadata={'token_usage': {'completion_tokens': 36, 'prompt_tokens': 898, 'total_tokens': 934, 'completion_time': 0.119683448, 'prompt_time': 0.037108803, 'queue_time': 0.057518568, 'total_time': 0.156792251}, 'model_name': 'llama3-70b-8192', 'system_fingerprint': 'fp_dd4ae1c591', 'finish_reason': 'tool_calls', 'logprobs': None}, id='run--5dd8d9c7-c34c-457a-b460-dc6cec82e740-0', tool_calls=[{'name': 'SubmitFinalAnswer', 'args': {'final_answer': 'Hello!'}, 'id': 'zzrqea8k5', 'type': 'tool_call'}], usage_metadata={'input_tokens': 898, 'output_tokens': 36, 'total_tokens': 934})"
      ]
     },
     "execution_count": 64,
     "metadata": {},
     "output_type": "execute_result"
    }
   ],
   "source": [
    "llm_with_final_answer.invoke(\"hi\")"
   ]
  },
  {
   "cell_type": "code",
   "execution_count": 66,
   "id": "344e8443",
   "metadata": {},
   "outputs": [],
   "source": [
    "# Add a node for a model to generate a query based on the question and schema\n",
    "query_gen_system_prompt = \"\"\"You are a SQL expert with a strong attention to detail.Given an input question, output a syntactically correct SQLite query to run, then look at the results of the query and return the answer.\n",
    "\n",
    "1. DO NOT call any tool besides SubmitFinalAnswer to submit the final answer. When generating the query:\n",
    "\n",
    "2. Output the SQL query that answers the input question without a tool call.\n",
    "\n",
    "3. Unless the user specifies a specific number of examples they wish to obtain, always limit your query to at most 5 results.\n",
    "\n",
    "4. You can order the results by a relevant column to return the most interesting examples in the database.\n",
    "\n",
    "5. Never query for all the columns from a specific table, only ask for the relevant columns given the question.\n",
    "\n",
    "6. If you get an error while executing a query, rewrite the query and try again.\n",
    "\n",
    "7. If you get an empty result set, you should try to rewrite the query to get a non-empty result set.\n",
    "\n",
    "8. NEVER make stuff up if you don't have enough information to answer the query... just say you don't have enough information.\n",
    "\n",
    "9. If you have enough information to answer the input question, simply invoke the appropriate tool to submit the final answer to the user.\n",
    "\n",
    "10. DO NOT make any DML statements (INSERT, UPDATE, DELETE, DROP etc.) to the database. Do not return any sql query except answer.\n",
    "\n",
    "11. rewrite this promote with very simple english and little shorter manner also \"\"\"\n",
    "\n",
    "query_gen_prompt = ChatPromptTemplate.from_messages([(\"system\", query_gen_system_prompt), (\"placeholder\", \"{messages}\")])\n",
    "\n",
    "query_generator = query_gen_prompt | llm_with_final_answer"
   ]
  },
  {
   "cell_type": "code",
   "execution_count": 69,
   "id": "da953f77",
   "metadata": {},
   "outputs": [
    {
     "data": {
      "text/plain": [
       "AIMessage(content=\"I'm here to assist you with any SQL-related questions. Please go ahead and ask your question, and I'll do my best to provide a syntactically correct SQLite query to answer it.\", additional_kwargs={}, response_metadata={'token_usage': {'completion_tokens': 40, 'prompt_tokens': 1194, 'total_tokens': 1234, 'completion_time': 0.141241133, 'prompt_time': 0.046896499, 'queue_time': 0.054245470999999996, 'total_time': 0.188137632}, 'model_name': 'llama3-70b-8192', 'system_fingerprint': 'fp_dd4ae1c591', 'finish_reason': 'stop', 'logprobs': None}, id='run--c04ab21f-bcf3-48de-aaa3-8a41d2b02099-0', usage_metadata={'input_tokens': 1194, 'output_tokens': 40, 'total_tokens': 1234})"
      ]
     },
     "execution_count": 69,
     "metadata": {},
     "output_type": "execute_result"
    }
   ],
   "source": [
    "query_generator.invoke({\"messages\": [(\"hi?\")]})\n"
   ]
  },
  {
   "cell_type": "code",
   "execution_count": 71,
   "id": "564d86de",
   "metadata": {},
   "outputs": [
    {
     "data": {
      "text/plain": [
       "AIMessage(content='Here is the SQLite query to fetch data from the `employee` table:\\n\\n```\\nSELECT employee_id, first_name, last_name, department \\nFROM employee \\nLIMIT 5;\\n```\\n\\nLet me run this query and see the results...', additional_kwargs={}, response_metadata={'token_usage': {'completion_tokens': 49, 'prompt_tokens': 1201, 'total_tokens': 1250, 'completion_time': 0.183345352, 'prompt_time': 0.039138046, 'queue_time': 0.056426465, 'total_time': 0.222483398}, 'model_name': 'llama3-70b-8192', 'system_fingerprint': 'fp_dd4ae1c591', 'finish_reason': 'stop', 'logprobs': None}, id='run--e94f5e59-59f8-45f0-a4eb-46cec5e5312f-0', usage_metadata={'input_tokens': 1201, 'output_tokens': 49, 'total_tokens': 1250})"
      ]
     },
     "execution_count": 71,
     "metadata": {},
     "output_type": "execute_result"
    }
   ],
   "source": [
    "query_generator.invoke({\"messages\": [(\"can you fetch the data from employee table?\")]})\n"
   ]
  },
  {
   "cell_type": "code",
   "execution_count": 74,
   "id": "1a781738",
   "metadata": {},
   "outputs": [
    {
     "data": {
      "text/plain": [
       "\"Here is the SQLite query to retrieve a list of tables:\\n\\n```\\nSELECT name \\nFROM sqlite_master \\nWHERE type='table' \\nLIMIT 5;\\n```\\n\\nLet me run this query and see the results.\""
      ]
     },
     "execution_count": 74,
     "metadata": {},
     "output_type": "execute_result"
    }
   ],
   "source": [
    "\n",
    "query_generator.invoke({\"messages\": [(\"list of tables\")]}).content"
   ]
  },
  {
   "cell_type": "code",
   "execution_count": 76,
   "id": "2d3cc253",
   "metadata": {},
   "outputs": [],
   "source": [
    "from typing_extensions import TypedDict\n",
    "class State(TypedDict):\n",
    "    messages: Annotated[list[AnyMessage],add_messages]"
   ]
  },
  {
   "cell_type": "code",
   "execution_count": 77,
   "id": "0d8a0e1e",
   "metadata": {},
   "outputs": [],
   "source": [
    "from langchain_core.messages import AIMessage\n",
    "def first_tool_call(state:State)->dict[str,list[AIMessage]]:\n",
    "    return {\"messages\":[AIMessage(content=\"\",tool_calls=[{\"name\":\"sql_db_list_tables\",\"args\":{},\"id\":\"tool_abcd123\"}])]}\n"
   ]
  },
  {
   "cell_type": "code",
   "execution_count": 85,
   "id": "a58a9416",
   "metadata": {},
   "outputs": [],
   "source": [
    "def handle_tool_error(state:State):\n",
    "    error = state.get(\"error\") \n",
    "    tool_calls = state[\"messages\"][-1].tool_calls\n",
    "    return { \"messages\": [ ToolMessage(content=f\"Error: {repr(error)}\\n please fix your mistakes.\",tool_call_id=tc[\"id\"],) for tc in tool_calls ] }\n",
    "\n",
    "\n",
    "from typing import Any\n",
    "\n",
    "\n",
    "from langchain_core.runnables import RunnablePassthrough,RunnableWithFallbacks,RunnableLambda"
   ]
  },
  {
   "cell_type": "code",
   "execution_count": 86,
   "id": "9789d5af",
   "metadata": {},
   "outputs": [],
   "source": [
    "\n",
    "def create_node_from_tool_with_fallback(tools:list)-> RunnableWithFallbacks[Any, dict]:\n",
    "    return ToolNode(tools).with_fallbacks([RunnableLambda(handle_tool_error)], exception_key=\"error\")"
   ]
  },
  {
   "cell_type": "code",
   "execution_count": 88,
   "id": "3fb77d4b",
   "metadata": {},
   "outputs": [],
   "source": [
    "def check_the_given_query(state:State):\n",
    "    return {\"messages\": [chain_for_run_no_throw.invoke({\"messages\": [state[\"messages\"][-1]]})]}"
   ]
  },
  {
   "cell_type": "code",
   "execution_count": 92,
   "id": "3294648e",
   "metadata": {},
   "outputs": [],
   "source": [
    "from langgraph.prebuilt import ToolNode\n",
    "from langchain_core.messages import ToolMessage\n",
    "def generation_query(state:State):\n",
    "    message = query_generator.invoke(state)\n",
    "\n",
    "    # Sometimes, the LLM will hallucinate and call the wrong tool. We need to catch this and return an error message.\n",
    "    tool_messages = []\n",
    "    if message.tool_calls:\n",
    "        for tc in message.tool_calls:\n",
    "            if tc[\"name\"] != \"SubmitFinalAnswer\":\n",
    "                tool_messages.append(\n",
    "                    ToolMessage(\n",
    "                        content=f\"Error: The wrong tool was called: {tc['name']}. Please fix your mistakes. Remember to only call SubmitFinalAnswer to submit the final answer. Generated queries should be outputted WITHOUT a tool call.\",\n",
    "                        tool_call_id=tc[\"id\"],\n",
    "                    )\n",
    "                )\n",
    "    else:\n",
    "        tool_messages = []\n",
    "    return {\"messages\": [message] + tool_messages}\n"
   ]
  },
  {
   "cell_type": "code",
   "execution_count": 94,
   "id": "86a6c4b0",
   "metadata": {},
   "outputs": [],
   "source": [
    "from langgraph.graph import END,START,StateGraph\n",
    "\n",
    "def should_continue(state:State):\n",
    "    messages = state[\"messages\"]\n",
    "    last_message = messages[-1]\n",
    "    if getattr(last_message, \"tool_calls\", None):\n",
    "        return END\n",
    "    if last_message.content.startswith(\"Error:\"):\n",
    "        return \"query_gen\"\n",
    "    else:\n",
    "        return \"correct_query\""
   ]
  },
  {
   "cell_type": "code",
   "execution_count": 95,
   "id": "56f92d08",
   "metadata": {},
   "outputs": [],
   "source": [
    "list_tables=create_node_from_tool_with_fallback([list_tables_tool])\n"
   ]
  },
  {
   "cell_type": "code",
   "execution_count": 96,
   "id": "9054ae61",
   "metadata": {},
   "outputs": [],
   "source": [
    "get_schema=create_node_from_tool_with_fallback([get_schema_tool])\n"
   ]
  },
  {
   "cell_type": "code",
   "execution_count": 101,
   "id": "a0b92995",
   "metadata": {},
   "outputs": [],
   "source": [
    "get_schema=create_node_from_tool_with_fallback([get_schema_tool])\n",
    "\n",
    "query_database=create_node_from_tool_with_fallback([query_to_database])\n"
   ]
  },
  {
   "cell_type": "code",
   "execution_count": 102,
   "id": "61b79cf0",
   "metadata": {},
   "outputs": [],
   "source": [
    "\n",
    "def llm_get_schema(state:State):\n",
    "    print(\"this is my state\", state)\n",
    "    response = llm_to_get_schema.invoke(state[\"messages\"])\n",
    "    {\"messages\": [response]}"
   ]
  },
  {
   "cell_type": "code",
   "execution_count": 103,
   "id": "5686d0c8",
   "metadata": {},
   "outputs": [],
   "source": [
    "\n",
    "from langchain_core.messages import BaseMessage, HumanMessage"
   ]
  },
  {
   "cell_type": "code",
   "execution_count": 104,
   "id": "a9d7a2de",
   "metadata": {},
   "outputs": [
    {
     "data": {
      "text/plain": [
       "<langgraph.graph.state.StateGraph at 0x222ed2e5c40>"
      ]
     },
     "execution_count": 104,
     "metadata": {},
     "output_type": "execute_result"
    }
   ],
   "source": [
    "\n",
    "workflow = StateGraph(State)\n",
    "workflow.add_node(\"first_tool_call\",first_tool_call)\n",
    "workflow.add_node(\"list_tables_tool\", list_tables)\n",
    "workflow.add_node(\"get_schema_tool\", get_schema)\n",
    "workflow.add_node(\"model_get_schema\", llm_get_schema)\n",
    "workflow.add_node(\"query_gen\", generation_query)\n",
    "workflow.add_node(\"correct_query\", check_the_given_query)\n",
    "workflow.add_node(\"execute_query\", query_database)\n"
   ]
  },
  {
   "cell_type": "code",
   "execution_count": 105,
   "id": "df0eba39",
   "metadata": {},
   "outputs": [
    {
     "data": {
      "text/plain": [
       "<langgraph.graph.state.StateGraph at 0x222ed2e5c40>"
      ]
     },
     "execution_count": 105,
     "metadata": {},
     "output_type": "execute_result"
    }
   ],
   "source": [
    "workflow.add_edge(START, \"first_tool_call\")\n",
    "workflow.add_edge(\"first_tool_call\", \"list_tables_tool\")\n",
    "workflow.add_edge(\"list_tables_tool\", \"model_get_schema\")\n",
    "workflow.add_edge(\"model_get_schema\", \"get_schema_tool\")\n",
    "workflow.add_edge(\"get_schema_tool\", \"query_gen\")\n",
    "workflow.add_conditional_edges(\"query_gen\",should_continue,\n",
    "                            {END:END,\n",
    "                            \"correct_query\":\"correct_query\"})\n",
    "workflow.add_edge(\"correct_query\", \"execute_query\")\n",
    "workflow.add_edge(\"execute_query\", \"query_gen\")"
   ]
  },
  {
   "cell_type": "code",
   "execution_count": 106,
   "id": "ebda93b6",
   "metadata": {},
   "outputs": [],
   "source": [
    "app=workflow.compile()"
   ]
  },
  {
   "cell_type": "code",
   "execution_count": 107,
   "id": "7d5f14a4",
   "metadata": {},
   "outputs": [
    {
     "data": {
      "image/png": "[encoded data removed]",
      "text/plain": [
       "<IPython.core.display.Image object>"
      ]
     },
     "metadata": {},
     "output_type": "display_data"
    }
   ],
   "source": [
    "from IPython.display import Image, display\n",
    "from langchain_core.runnables.graph import MermaidDrawMethod\n",
    "\n",
    "display(\n",
    "    Image(\n",
    "        app.get_graph().draw_mermaid_png(\n",
    "            draw_method=MermaidDrawMethod.API,\n",
    "        )\n",
    "    )\n",
    ")"
   ]
  },
  {
   "cell_type": "code",
   "execution_count": 112,
   "id": "2f691d5e",
   "metadata": {},
   "outputs": [],
   "source": [
    "query={\"messages\": [(\"user\", \"how many order are there which is more than 300 rupees?\")]}"
   ]
  },
  {
   "cell_type": "code",
   "execution_count": 113,
   "id": "8704b2ac",
   "metadata": {},
   "outputs": [
    {
     "name": "stdout",
     "output_type": "stream",
     "text": [
      "this is my state {'messages': [HumanMessage(content='how many order are there which is more than 300 rupees?', additional_kwargs={}, response_metadata={}, id='7eda4d83-2ca3-4d9c-b33a-0753f2aeb54a'), AIMessage(content='', additional_kwargs={}, response_metadata={}, id='5edbe0f3-dee9-494d-8172-df463749f561', tool_calls=[{'name': 'sql_db_list_tables', 'args': {}, 'id': 'tool_abcd123', 'type': 'tool_call'}]), ToolMessage(content='customers, employees, orders', name='sql_db_list_tables', id='1110e91c-bd1f-45f8-90dc-9eaf41d3057b', tool_call_id='tool_abcd123')]}\n"
     ]
    }
   ],
   "source": [
    "response=app.invoke(query)"
   ]
  },
  {
   "cell_type": "code",
   "execution_count": 114,
   "id": "d5c01031",
   "metadata": {},
   "outputs": [
    {
     "data": {
      "text/plain": [
       "\"Please provide the schema of the 'orders' table to execute the query.\""
      ]
     },
     "execution_count": 114,
     "metadata": {},
     "output_type": "execute_result"
    }
   ],
   "source": [
    "response[\"messages\"][-1].tool_calls[0][\"args\"][\"final_answer\"]"
   ]
  },
  {
   "cell_type": "code",
   "execution_count": null,
   "id": "d1423de7",
   "metadata": {},
   "outputs": [],
   "source": []
  },
  {
   "cell_type": "code",
   "execution_count": null,
   "id": "78493792",
   "metadata": {},
   "outputs": [],
   "source": []
  }
 ],
 "metadata": {
  "kernelspec": {
   "display_name": "llmenv",
   "language": "python",
   "name": "python3"
  },
  "language_info": {
   "codemirror_mode": {
    "name": "ipython",
    "version": 3
   },
   "file_extension": ".py",
   "mimetype": "text/x-python",
   "name": "python",
   "nbconvert_exporter": "python",
   "pygments_lexer": "ipython3",
   "version": "3.12.0"
  }
 },
 "nbformat": 4,
 "nbformat_minor": 5
}
