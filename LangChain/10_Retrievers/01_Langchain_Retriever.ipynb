{
 "cells": [
  {
   "cell_type": "code",
   "execution_count": 2,
   "id": "fd66adc3",
   "metadata": {},
   "outputs": [
    {
     "name": "stdout",
     "output_type": "stream",
     "text": [
      "Requirement already satisfied: faiss-cpu in f:\\study\\langgraph_langchain\\llmenv\\lib\\site-packages (1.11.0)\n",
      "Requirement already satisfied: numpy<3.0,>=1.25.0 in f:\\study\\langgraph_langchain\\llmenv\\lib\\site-packages (from faiss-cpu) (2.3.0)\n",
      "Requirement already satisfied: packaging in f:\\study\\langgraph_langchain\\llmenv\\lib\\site-packages (from faiss-cpu) (24.2)\n"
     ]
    },
    {
     "name": "stderr",
     "output_type": "stream",
     "text": [
      "\n",
      "[notice] A new release of pip is available: 23.2.1 -> 25.1.1\n",
      "[notice] To update, run: python.exe -m pip install --upgrade pip\n"
     ]
    },
    {
     "name": "stdout",
     "output_type": "stream",
     "text": [
      "Requirement already satisfied: wikipedia in f:\\study\\langgraph_langchain\\llmenv\\lib\\site-packages (1.4.0)\n",
      "Requirement already satisfied: beautifulsoup4 in f:\\study\\langgraph_langchain\\llmenv\\lib\\site-packages (from wikipedia) (4.13.4)\n",
      "Requirement already satisfied: requests<3.0.0,>=2.0.0 in f:\\study\\langgraph_langchain\\llmenv\\lib\\site-packages (from wikipedia) (2.32.4)\n",
      "Requirement already satisfied: charset_normalizer<4,>=2 in f:\\study\\langgraph_langchain\\llmenv\\lib\\site-packages (from requests<3.0.0,>=2.0.0->wikipedia) (3.4.2)\n",
      "Requirement already satisfied: idna<4,>=2.5 in f:\\study\\langgraph_langchain\\llmenv\\lib\\site-packages (from requests<3.0.0,>=2.0.0->wikipedia) (3.10)\n",
      "Requirement already satisfied: urllib3<3,>=1.21.1 in f:\\study\\langgraph_langchain\\llmenv\\lib\\site-packages (from requests<3.0.0,>=2.0.0->wikipedia) (2.4.0)\n",
      "Requirement already satisfied: certifi>=2017.4.17 in f:\\study\\langgraph_langchain\\llmenv\\lib\\site-packages (from requests<3.0.0,>=2.0.0->wikipedia) (2025.4.26)\n",
      "Requirement already satisfied: soupsieve>1.2 in f:\\study\\langgraph_langchain\\llmenv\\lib\\site-packages (from beautifulsoup4->wikipedia) (2.7)\n",
      "Requirement already satisfied: typing-extensions>=4.0.0 in f:\\study\\langgraph_langchain\\llmenv\\lib\\site-packages (from beautifulsoup4->wikipedia) (4.14.0)\n"
     ]
    },
    {
     "name": "stderr",
     "output_type": "stream",
     "text": [
      "\n",
      "[notice] A new release of pip is available: 23.2.1 -> 25.1.1\n",
      "[notice] To update, run: python.exe -m pip install --upgrade pip\n"
     ]
    }
   ],
   "source": [
    "!pip install faiss-cpu \n",
    "!pip install wikipedia"
   ]
  },
  {
   "cell_type": "markdown",
   "id": "66ed045e",
   "metadata": {},
   "source": [
    "# Wikipedia Retriever"
   ]
  },
  {
   "cell_type": "code",
   "execution_count": 3,
   "id": "c355c18b",
   "metadata": {},
   "outputs": [],
   "source": [
    "from langchain_community.retrievers import WikipediaRetriever\n",
    "\n",
    "wiki = WikipediaRetriever(top_k_results=2,lang=\"en\")"
   ]
  },
  {
   "cell_type": "code",
   "execution_count": 4,
   "id": "51360554",
   "metadata": {},
   "outputs": [
    {
     "data": {
      "text/plain": [
       "[Document(metadata={'title': '2025 India–Pakistan conflict', 'summary': \"The 2025 India–Pakistan conflict was a brief armed conflict between India and Pakistan that began on 7 May 2025, after India launched missile strikes on Pakistan, in a military campaign codenamed Operation Sindoor. India said that the operation was in response to the Pahalgam terrorist attack in Indian-administered Jammu and Kashmir on 22 April 2025 in which 26 civilians were killed. India accused Pakistan of supporting cross-border terrorism, which Pakistan denied.\\nOn 7 May, India launched Operation Sindoor with missile strikes on terrorism-related infrastructure facilities of Pakistan-based militant groups Jaish-e-Mohammed and Lashkar-e-Taiba in Pakistan and Pakistan-administered Azad Kashmir, and said that no Pakistani military or civilian facilities were targeted. According to Pakistan, the Indian strikes hit civilian areas, including mosques, and resulted in civilian casualties. Following these strikes, there were border skirmishes and drone strikes between the two countries. Pakistan's army retaliated on 7 May, by launching a blitz of mortar shells on Jammu, particularly Poonch, killing civilians, and damaging homes and religious sites. This conflict marked the first drone battle between the two nuclear-armed nations.\\nIn the early hours of 10 May, India accused Pakistan of launching missile attacks on Indian air bases including the Sirsa air base while Pakistan accused India of launching attacks on several Pakistan air bases, including Nur Khan air base, Rafiqi air base, and Murid air base. As conflict escalated on 10 May, Pakistan launched its Operation Bunyan-un-Marsoos, in which it said it had targeted several Indian military bases.\\nAfter the four-day military conflict, both India and Pakistan announced that a ceasefire had been agreed after a hotline communication between their DGMOs (Directors General of Military Operations) on 10 May 2025. U.S. Vice President JD Vance and Secretary of State Marco Rubio held extensive correspondence with both Indian and Pakistani officials during the negotiations. The ceasefire has been holding with resumed commercial flights and normalcy reported from both countries.\", 'source': 'https://en.wikipedia.org/wiki/2025_India%E2%80%93Pakistan_conflict'}, page_content='The 2025 India–Pakistan conflict was a brief armed conflict between India and Pakistan that began on 7 May 2025, after India launched missile strikes on Pakistan, in a military campaign codenamed Operation Sindoor. India said that the operation was in response to the Pahalgam terrorist attack in Indian-administered Jammu and Kashmir on 22 April 2025 in which 26 civilians were killed. India accused Pakistan of supporting cross-border terrorism, which Pakistan denied.\\nOn 7 May, India launched Operation Sindoor with missile strikes on terrorism-related infrastructure facilities of Pakistan-based militant groups Jaish-e-Mohammed and Lashkar-e-Taiba in Pakistan and Pakistan-administered Azad Kashmir, and said that no Pakistani military or civilian facilities were targeted. According to Pakistan, the Indian strikes hit civilian areas, including mosques, and resulted in civilian casualties. Following these strikes, there were border skirmishes and drone strikes between the two countries. Pakistan\\'s army retaliated on 7 May, by launching a blitz of mortar shells on Jammu, particularly Poonch, killing civilians, and damaging homes and religious sites. This conflict marked the first drone battle between the two nuclear-armed nations.\\nIn the early hours of 10 May, India accused Pakistan of launching missile attacks on Indian air bases including the Sirsa air base while Pakistan accused India of launching attacks on several Pakistan air bases, including Nur Khan air base, Rafiqi air base, and Murid air base. As conflict escalated on 10 May, Pakistan launched its Operation Bunyan-un-Marsoos, in which it said it had targeted several Indian military bases.\\nAfter the four-day military conflict, both India and Pakistan announced that a ceasefire had been agreed after a hotline communication between their DGMOs (Directors General of Military Operations) on 10 May 2025. U.S. Vice President JD Vance and Secretary of State Marco Rubio held extensive correspondence with both Indian and Pakistani officials during the negotiations. The ceasefire has been holding with resumed commercial flights and normalcy reported from both countries.\\n\\n\\n== Background ==\\n\\nThe Kashmir conflict, ongoing since 1947, has fuelled multiple wars and skirmishes between India and Pakistan over the disputed region.\\nOn 22 April 2025, a terrorist attack by five armed terrorists near Pahalgam in Indian-administered Jammu and Kashmir killed 26 civilians, mostly Hindu tourists. The Resistance Front, an offshoot of Pakistan-based, UN-designated, terrorist group Lashkar-e-Taiba, initially claimed responsibility for the attack, which it later retracted. India announced a series of retaliatory measures against Pakistan, including the suspension of the Indus Waters Treaty, prompting responsive measures and leading to a diplomatic crisis and border skirmishes.\\nOn 30 April, Pakistan claimed that a military strike by India was imminent.\\n\\n\\n== Timeline ==\\n\\n\\n=== 7 May ===\\nOn 7 May 2025, India announced that it had launched missile and air strikes, codenamed Operation Sindoor, targeting nine sites across Pakistani-administered Azad Kashmir and Pakistan\\'s Punjab province. The targets in Pakistan-administered Kashmir were targeted by Indian Army\\'s artillery regiment using precision long-range Excalibur rounds and loitering munitions, while the Indian Air Force provided air defence. The Israeli press mentioned Indo-Israeli SkyStriker loitering munitions.\\nThe attacks on targets in Pakistani Punjab were carried out by the Indian Air Force. According to sources cited by India Today, Rafale jets were employed, equipped with SCALP missiles and AASM Hammer bombs. According to a working paper written by Christopher Clary for Stimson Center, BrahMos cruise missiles might have also been used.\\nThe Indian government described the strikes as \"focused, measured, and non-escalatory\". Indian military spokespeople said that the missile strikes targeted infrastructure linked to the terrorist groups Lashkar-e-Taib'),\n",
       " Document(metadata={'title': 'WhatsApp', 'summary': \"WhatsApp (officially WhatsApp Messenger) is an American social media, instant messaging (IM), and voice-over-IP (VoIP) service owned by technology conglomerate Meta. It allows users to send text, voice messages and video messages, make voice and video calls, and share images, documents, user locations, and other content. WhatsApp's client application runs on mobile devices, and can be accessed from computers. The service requires a cellular mobile telephone number to sign up. WhatsApp was launched in February 2009. In January 2018, WhatsApp released a standalone business app called WhatsApp Business which can communicate with the standard WhatsApp client.\\nThe service was created by WhatsApp Inc. of Mountain View, California, which was acquired by Facebook in February 2014 for approximately US$19.3 billion. It became the world's most popular messaging application by 2015, and had more than 2 billion users worldwide by February 2020, with WhatsApp Business having approximately 200 million monthly users by 2023. By 2016, it had become the primary means of Internet communication in regions including the Americas, the Indian subcontinent, and large parts of Europe and Africa.\", 'source': 'https://en.wikipedia.org/wiki/WhatsApp'}, page_content='WhatsApp (officially WhatsApp Messenger) is an American social media, instant messaging (IM), and voice-over-IP (VoIP) service owned by technology conglomerate Meta. It allows users to send text, voice messages and video messages, make voice and video calls, and share images, documents, user locations, and other content. WhatsApp\\'s client application runs on mobile devices, and can be accessed from computers. The service requires a cellular mobile telephone number to sign up. WhatsApp was launched in February 2009. In January 2018, WhatsApp released a standalone business app called WhatsApp Business which can communicate with the standard WhatsApp client.\\nThe service was created by WhatsApp Inc. of Mountain View, California, which was acquired by Facebook in February 2014 for approximately US$19.3 billion. It became the world\\'s most popular messaging application by 2015, and had more than 2 billion users worldwide by February 2020, with WhatsApp Business having approximately 200 million monthly users by 2023. By 2016, it had become the primary means of Internet communication in regions including the Americas, the Indian subcontinent, and large parts of Europe and Africa.\\n\\n\\n== History ==\\n\\n\\n=== 2009–2014 ===\\nWhatsApp was founded in February 2009 by Brian Acton and Jan Koum, former employees of Yahoo! A month earlier, after Koum purchased an iPhone, he and Acton decided to create an app for the App Store. The idea started off as an app that would display statuses in a phone\\'s Contacts menu, showing if a person was at work or on a call.\\nTheir discussions often took place at the home of Koum\\'s Russian friend Alex Fishman in West San Jose. They realized that to take the idea further, they would need an iPhone developer. Fishman visited RentACoder.com, found Russian developer Igor Solomennikov, and introduced him to Koum.\\nKoum named the app WhatsApp to sound like \"what\\'s up\". On February 24, 2009, he incorporated WhatsApp Inc. in California. However, when early versions of WhatsApp kept crashing, Koum considered giving up and looking for a new job. Acton encouraged him to wait for a \"few more months\".\\nIn June 2009, when the app had been downloaded by only a handful of Fishman\\'s Russian-speaking friends, Apple launched push notifications, allowing users to be pinged even when not using the app.\\nKoum updated WhatsApp so that everyone in the user\\'s network would be notified when a user\\'s status changed. This new facility, to Koum\\'s surprise, was used by users to ping \"each other with jokey custom statuses like, \\'I woke up late\\' or \\'I\\'m on my way.\\'\"\\nFishman said, \"At some point it sort of became instant messaging\".\\nWhatsApp 2.0, released for iPhone in August 2009, featured a purpose-designed messaging component; the number of active users suddenly increased to 250,000.\\nAlthough Acton was working on another startup idea, he decided to join the company. In October 2009, Acton persuaded five former friends at Yahoo! to invest $250,000 in seed funding, and Acton became a co-founder and was given a stake. He officially joined WhatsApp on November 1. Koum then hired a friend in Los Angeles, Chris Peiffer, to develop a BlackBerry version, which arrived two months later. Subsequently, WhatsApp for Symbian OS was added in May 2010, and for Android OS in August 2010. In 2010 Google made multiple acquisition offers for WhatsApp, which were all declined.\\nTo cover the cost of sending verification texts to users, WhatsApp was changed from a free service to a paid one. In December 2009, the ability to send photos was added to the iOS version. By early 2011, WhatsApp was one of the top 20 apps in the U.S. Apple App Store.\\nIn April 2011, Sequoia Capital invested about $8 million for more than 15% of the company, after months of negotiation by Sequoia partner Jim Goetz.\\nBy February 2013, WhatsApp had about 200 million active users and 50 staff members. Sequoia invested another $50 million, and WhatsApp was valued at $1.5 billion. Some time in 2013 WhatsAp')]"
      ]
     },
     "execution_count": 4,
     "metadata": {},
     "output_type": "execute_result"
    }
   ],
   "source": [
    "query = \"what is latest new of todays in india\"\n",
    "\n",
    "result = wiki.invoke(query)\n",
    "result"
   ]
  },
  {
   "cell_type": "markdown",
   "id": "8bc9aa2f",
   "metadata": {},
   "source": [
    "# Vector Store Retriever\n"
   ]
  },
  {
   "cell_type": "code",
   "execution_count": 5,
   "id": "0a15cf10",
   "metadata": {},
   "outputs": [
    {
     "name": "stderr",
     "output_type": "stream",
     "text": [
      "C:\\Users\\ANKIT\\AppData\\Local\\Temp\\ipykernel_16708\\2258002492.py:6: LangChainDeprecationWarning: The class `HuggingFaceEmbeddings` was deprecated in LangChain 0.2.2 and will be removed in 1.0. An updated version of the class exists in the :class:`~langchain-huggingface package and should be used instead. To use it run `pip install -U :class:`~langchain-huggingface` and import as `from :class:`~langchain_huggingface import HuggingFaceEmbeddings``.\n",
      "  embedding_model = HuggingFaceEmbeddings(model_name=\"sentence-transformers/all-MiniLM-L6-v2\")\n",
      "f:\\study\\LangGraph_LangChain\\llmenv\\Lib\\site-packages\\tqdm\\auto.py:21: TqdmWarning: IProgress not found. Please update jupyter and ipywidgets. See https://ipywidgets.readthedocs.io/en/stable/user_install.html\n",
      "  from .autonotebook import tqdm as notebook_tqdm\n"
     ]
    }
   ],
   "source": [
    "from langchain_community.vectorstores import Chroma\n",
    "import os\n",
    "\n",
    "from langchain.embeddings import HuggingFaceEmbeddings\n",
    "huggingfacehub_api_token = os.getenv(\"HUGGINGFACEHUB_API_TOKEN\")\n",
    "embedding_model = HuggingFaceEmbeddings(model_name=\"sentence-transformers/all-MiniLM-L6-v2\")\n"
   ]
  },
  {
   "cell_type": "code",
   "execution_count": 7,
   "id": "f8b69429",
   "metadata": {},
   "outputs": [],
   "source": [
    "# Step 1: Your source documents\n",
    "from langchain_core.documents import Document\n",
    "\n",
    "documents = [\n",
    "    Document(page_content=\"LangChain helps developers build LLM applications easily.\"),\n",
    "    Document(page_content=\"Chroma is a vector database optimized for LLM-based search.\"),\n",
    "    Document(page_content=\"Embeddings convert text into high-dimensional vectors.\"),\n",
    "    Document(page_content=\"OpenAI provides powerful embedding models.\"),\n",
    "]"
   ]
  },
  {
   "cell_type": "code",
   "execution_count": 8,
   "id": "42504eda",
   "metadata": {},
   "outputs": [],
   "source": [
    "vectorstore = Chroma.from_documents(embedding=embedding_model,collection_name=\"test\",documents=documents)"
   ]
  },
  {
   "cell_type": "code",
   "execution_count": 9,
   "id": "696eeac9",
   "metadata": {},
   "outputs": [],
   "source": [
    "# convert vectore into retriver\n",
    "\n",
    "query = \"What is Chroma used for\"\n",
    "\n",
    "retriever = vectorstore.as_retriever(search_kwargs={\"k\":2})\n"
   ]
  },
  {
   "cell_type": "code",
   "execution_count": 11,
   "id": "64c23099",
   "metadata": {},
   "outputs": [],
   "source": [
    "results = retriever.invoke(query)"
   ]
  },
  {
   "cell_type": "code",
   "execution_count": 12,
   "id": "319c7ab7",
   "metadata": {},
   "outputs": [
    {
     "name": "stdout",
     "output_type": "stream",
     "text": [
      "\n",
      "--- Result 1 ---\n",
      "Chroma is a vector database optimized for LLM-based search.\n",
      "\n",
      "--- Result 2 ---\n",
      "LangChain helps developers build LLM applications easily.\n"
     ]
    }
   ],
   "source": [
    "for i, doc in enumerate(results):\n",
    "    print(f\"\\n--- Result {i+1} ---\")\n",
    "    print(doc.page_content)"
   ]
  },
  {
   "cell_type": "markdown",
   "id": "49605696",
   "metadata": {},
   "source": [
    "# MMR"
   ]
  },
  {
   "cell_type": "code",
   "execution_count": 13,
   "id": "7f364a98",
   "metadata": {},
   "outputs": [],
   "source": [
    "# Sample documents\n",
    "docs = [\n",
    "    Document(page_content=\"LangChain makes it easy to work with LLMs.\"),\n",
    "    Document(page_content=\"LangChain is used to build LLM based applications.\"),\n",
    "    Document(page_content=\"Chroma is used to store and search document embeddings.\"),\n",
    "    Document(page_content=\"Embeddings are vector representations of text.\"),\n",
    "    Document(page_content=\"MMR helps you get diverse results when doing similarity search.\"),\n",
    "    Document(page_content=\"LangChain supports Chroma, FAISS, Pinecone, and more.\"),\n",
    "]"
   ]
  },
  {
   "cell_type": "markdown",
   "id": "29a77ff5",
   "metadata": {},
   "source": [
    "# FAISS VECTOR DB"
   ]
  },
  {
   "cell_type": "code",
   "execution_count": 14,
   "id": "bb3864c4",
   "metadata": {},
   "outputs": [],
   "source": [
    "from langchain_community.vectorstores import FAISS\n",
    "\n",
    "vectorstore = FAISS.from_documents(\n",
    "    documents=documents,\n",
    "    embedding=embedding_model\n",
    ")"
   ]
  },
  {
   "cell_type": "markdown",
   "id": "e6fcfc91",
   "metadata": {},
   "source": [
    "### Enable the MMR in  the retriever"
   ]
  },
  {
   "cell_type": "code",
   "execution_count": 15,
   "id": "a1198370",
   "metadata": {},
   "outputs": [],
   "source": [
    "retriever = vectorstore.as_retriever(\n",
    "    search_type=\"mmr\",                   # <-- This enables MMR\n",
    "    search_kwargs={\"k\": 3, \"lambda_mult\": 0.5}  # k = top results, lambda_mult = relevance-diversity balance\n",
    ")"
   ]
  },
  {
   "cell_type": "code",
   "execution_count": 17,
   "id": "ea79942d",
   "metadata": {},
   "outputs": [],
   "source": [
    "query = \"what is langchain\"\n",
    "results = retriever.invoke(query)"
   ]
  },
  {
   "cell_type": "code",
   "execution_count": 18,
   "id": "4e0c1103",
   "metadata": {},
   "outputs": [
    {
     "name": "stdout",
     "output_type": "stream",
     "text": [
      "\n",
      "--- Result 1 ---\n",
      "LangChain helps developers build LLM applications easily.\n",
      "\n",
      "--- Result 2 ---\n",
      "Embeddings convert text into high-dimensional vectors.\n",
      "\n",
      "--- Result 3 ---\n",
      "Chroma is a vector database optimized for LLM-based search.\n"
     ]
    }
   ],
   "source": [
    "for i, doc in enumerate(results):\n",
    "    print(f\"\\n--- Result {i+1} ---\")\n",
    "    print(doc.page_content)"
   ]
  },
  {
   "cell_type": "markdown",
   "id": "bc2c7cf0",
   "metadata": {},
   "source": [
    "# MultiQuery Retriever"
   ]
  },
  {
   "cell_type": "code",
   "execution_count": null,
   "id": "6dd805cd",
   "metadata": {},
   "outputs": [],
   "source": []
  },
  {
   "cell_type": "code",
   "execution_count": null,
   "id": "eb32dbfb",
   "metadata": {},
   "outputs": [],
   "source": []
  }
 ],
 "metadata": {
  "kernelspec": {
   "display_name": "llmenv",
   "language": "python",
   "name": "python3"
  },
  "language_info": {
   "codemirror_mode": {
    "name": "ipython",
    "version": 3
   },
   "file_extension": ".py",
   "mimetype": "text/x-python",
   "name": "python",
   "nbconvert_exporter": "python",
   "pygments_lexer": "ipython3",
   "version": "3.12.0"
  }
 },
 "nbformat": 4,
 "nbformat_minor": 5
}
