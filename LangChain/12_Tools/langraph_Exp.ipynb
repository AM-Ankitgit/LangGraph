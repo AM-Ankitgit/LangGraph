{
 "cells": [
  {
   "cell_type": "code",
   "execution_count": null,
   "id": "c9d78cb4",
   "metadata": {},
   "outputs": [],
   "source": []
  },
  {
   "cell_type": "code",
   "execution_count": 1,
   "id": "b503a819",
   "metadata": {},
   "outputs": [
    {
     "name": "stdout",
     "output_type": "stream",
     "text": [
      "10\n"
     ]
    }
   ],
   "source": [
    "import os\n",
    "from langchain_groq import ChatGroq\n",
    "from langchain.schema import Document\n",
    "\n",
    "os.environ['GROQ_API_KEY'] = os.getenv(\"GROQ_API_KEY\")\n",
    "model = ChatGroq(model=\"llama3-70b-8192\")\n",
    "\n",
    "from langchain.tools import StructuredTool\n",
    "from pydantic import BaseModel,Field\n",
    "\n",
    "class MultiplyInput(BaseModel):\n",
    "    a:int=Field(...,description=\"Enter interger value of a\")\n",
    "    b:int=Field(...,description=\"Enter interger value of b\")  # The ... is a shorthand for saying “no default value, this field is required”.\n",
    "\n",
    "\n",
    "\n",
    "def multiply(a:int,b:int)->int:\n",
    "    return a*b\n",
    "\n",
    "from langchain.tools import StructuredTool\n",
    "\n",
    "multiply_tool = StructuredTool.from_function(func=multiply,\n",
    "                                             name=\"mulitplyfunction\",\n",
    "                                             description=\"it use to multiple two function\",\n",
    "                                             args_schema=MultiplyInput)\n",
    "\n",
    "RESULT = multiply_tool.invoke({\"a\":1,\"b\":10})\n",
    "\n",
    "print(RESULT)"
   ]
  },
  {
   "cell_type": "code",
   "execution_count": 2,
   "id": "e832d15e",
   "metadata": {},
   "outputs": [],
   "source": [
    "bound_model = model.bind_tools([multiply_tool])"
   ]
  },
  {
   "cell_type": "code",
   "execution_count": 3,
   "id": "6cfaa35f",
   "metadata": {},
   "outputs": [
    {
     "data": {
      "text/plain": [
       "AIMessage(content='', additional_kwargs={'tool_calls': [{'id': 'ezdwcqgxe', 'function': {'arguments': '{\"a\":2,\"b\":4}', 'name': 'mulitplyfunction'}, 'type': 'function'}]}, response_metadata={'token_usage': {'completion_tokens': 51, 'prompt_tokens': 932, 'total_tokens': 983, 'completion_time': 0.145714286, 'prompt_time': 0.030171333, 'queue_time': 0.05305975599999999, 'total_time': 0.175885619}, 'model_name': 'llama3-70b-8192', 'system_fingerprint': 'fp_dd4ae1c591', 'finish_reason': 'tool_calls', 'logprobs': None}, id='run--5813411b-ac85-4328-9deb-40ddba496541-0', tool_calls=[{'name': 'mulitplyfunction', 'args': {'a': 2, 'b': 4}, 'id': 'ezdwcqgxe', 'type': 'tool_call'}], usage_metadata={'input_tokens': 932, 'output_tokens': 51, 'total_tokens': 983})"
      ]
     },
     "execution_count": 3,
     "metadata": {},
     "output_type": "execute_result"
    }
   ],
   "source": [
    "bound_model.invoke(\"mulitplication of two number is 2,4\")"
   ]
  },
  {
   "cell_type": "code",
   "execution_count": 126,
   "id": "6ae5d659",
   "metadata": {},
   "outputs": [],
   "source": [
    "import json\n",
    "\n",
    "def extract_tool(tool_result)->dict:\n",
    "    # print(tool_result)\n",
    "\n",
    "    messages = []\n",
    "    last_message = tool_result['messages'][-1]\n",
    "\n",
    "    all_tools = last_message.tool_calls\n",
    "    \n",
    "    for tool in all_tools:\n",
    "        print(tool)\n",
    "        if tool['name']==\"mulitplyfunction\":\n",
    "            result = multiply_tool.invoke(tool)\n",
    "            messages.append(result)\n",
    "            # message_list.append(AIMessage(content=json.dumps(result)))\n",
    "\n",
    "    return {\"messages\":messages}\n",
    "\n",
    "# final_result = extract_tool(tool_result)\n",
    "# final_result"
   ]
  },
  {
   "cell_type": "code",
   "execution_count": null,
   "id": "b021a78f",
   "metadata": {},
   "outputs": [],
   "source": [
    "\n",
    "from typing import Annotated\n",
    "from typing_extensions import TypedDict\n",
    "from langgraph.graph import START,END,StateGraph\n",
    "from langgraph.graph.message import add_messages\n",
    "\n",
    "class State(TypedDict):\n",
    "    messages :Annotated[list, add_messages]\n"
   ]
  },
  {
   "cell_type": "code",
   "execution_count": 128,
   "id": "c8bb42dd",
   "metadata": {},
   "outputs": [],
   "source": [
    "# create node object\n",
    "\n",
    "graph_builder = StateGraph(State)"
   ]
  },
  {
   "cell_type": "code",
   "execution_count": 129,
   "id": "e387a614",
   "metadata": {},
   "outputs": [],
   "source": [
    "#first node starting node with anem of chatbot\n",
    "\n",
    "def chatbot(state:State):\n",
    "    return {\"messages\":[bound_model.invoke(state['messages'])]}"
   ]
  },
  {
   "cell_type": "code",
   "execution_count": 130,
   "id": "408b47c4",
   "metadata": {},
   "outputs": [
    {
     "data": {
      "text/plain": [
       "<langgraph.graph.state.StateGraph at 0x2809ee68890>"
      ]
     },
     "execution_count": 130,
     "metadata": {},
     "output_type": "execute_result"
    }
   ],
   "source": [
    "graph_builder.add_node(\"chatbot\",chatbot) # define node \n",
    "\n",
    "\n",
    "# agent calling\n",
    "\n",
    "graph_builder.add_node(\"toolcalling\",extract_tool)"
   ]
  },
  {
   "cell_type": "code",
   "execution_count": 131,
   "id": "fd787086",
   "metadata": {},
   "outputs": [],
   "source": [
    "# we giving condiional edge does really we need to call tool\n",
    "\n",
    "from langgraph.graph import MessagesState\n",
    "from typing import Literal\n",
    "def should_continue(state:MessagesState)->Literal['toolcalling',END]:\n",
    "    messages = state['messages']\n",
    "    \n",
    "    # get last messages\n",
    "    last_message = messages[-1]\n",
    "    if last_message.tool_calls:\n",
    "        return \"toolcalling\"\n",
    "    return END"
   ]
  },
  {
   "cell_type": "code",
   "execution_count": 132,
   "id": "c42a1cc2",
   "metadata": {},
   "outputs": [
    {
     "data": {
      "text/plain": [
       "<langgraph.graph.state.StateGraph at 0x2809ee68890>"
      ]
     },
     "execution_count": 132,
     "metadata": {},
     "output_type": "execute_result"
    }
   ],
   "source": [
    "# add conditional edge\n",
    "\n",
    "graph_builder.add_conditional_edges('chatbot',should_continue,['toolcalling',END])"
   ]
  },
  {
   "cell_type": "code",
   "execution_count": 133,
   "id": "5cca1fe8",
   "metadata": {},
   "outputs": [
    {
     "data": {
      "text/plain": [
       "<langgraph.graph.state.StateGraph at 0x2809ee68890>"
      ]
     },
     "execution_count": 133,
     "metadata": {},
     "output_type": "execute_result"
    }
   ],
   "source": [
    "graph_builder.add_edge(\"toolcalling\",\"chatbot\")\n",
    "graph_builder.add_edge(START,\"chatbot\")\n"
   ]
  },
  {
   "cell_type": "code",
   "execution_count": 134,
   "id": "edd7d4cd",
   "metadata": {},
   "outputs": [],
   "source": [
    "from langgraph.checkpoint.memory import MemorySaver\n",
    "\n",
    "# For production use cases we recommend installing [langgraph-checkpoint-postgres](https://pypi.org/project/langgraph-checkpoint-postgres/) and using `PostgresSaver` / `AsyncPostgresSaver`.\n",
    "\n",
    "\n",
    "memory = MemorySaver()\n",
    "graph = graph_builder.compile(checkpointer=memory)"
   ]
  },
  {
   "cell_type": "code",
   "execution_count": 135,
   "id": "08fe1bbc",
   "metadata": {},
   "outputs": [
    {
     "data": {
      "image/png": "[encoded data removed]",
      "text/plain": [
       "<IPython.core.display.Image object>"
      ]
     },
     "metadata": {},
     "output_type": "display_data"
    }
   ],
   "source": [
    "from IPython.display import Image, display\n",
    "\n",
    "try:\n",
    "    display(Image(graph.get_graph().draw_mermaid_png()))\n",
    "except Exception:\n",
    "    # This requires some extra dependencies and is optional\n",
    "    pass"
   ]
  },
  {
   "cell_type": "code",
   "execution_count": 136,
   "id": "3188c5df",
   "metadata": {},
   "outputs": [],
   "source": [
    "config = {\"configurable\": {\"thread_id\": \"1\"}}\n"
   ]
  },
  {
   "cell_type": "code",
   "execution_count": 137,
   "id": "09b29ca7",
   "metadata": {},
   "outputs": [
    {
     "name": "stdout",
     "output_type": "stream",
     "text": [
      "{'name': 'mulitplyfunction', 'args': {'a': 2, 'b': 2}, 'id': '0axgptx8h', 'type': 'tool_call'}\n"
     ]
    },
    {
     "data": {
      "text/plain": [
       "'The multiplication of 2 and 2 is 4.'"
      ]
     },
     "execution_count": 137,
     "metadata": {},
     "output_type": "execute_result"
    }
   ],
   "source": [
    "from langchain_core.messages import HumanMessage\n",
    "user_input = \"what is muliplication of 2,2\"\n",
    "\n",
    "# Use the Runnable\n",
    "final_state = graph.invoke(\n",
    "    {\"messages\": [HumanMessage(content=user_input)]},\n",
    "    config=config\n",
    ")\n",
    "final_state[\"messages\"][-1].content"
   ]
  },
  {
   "cell_type": "code",
   "execution_count": null,
   "id": "ec4b6657",
   "metadata": {},
   "outputs": [],
   "source": []
  }
 ],
 "metadata": {
  "kernelspec": {
   "display_name": "llmenv",
   "language": "python",
   "name": "python3"
  },
  "language_info": {
   "codemirror_mode": {
    "name": "ipython",
    "version": 3
   },
   "file_extension": ".py",
   "mimetype": "text/x-python",
   "name": "python",
   "nbconvert_exporter": "python",
   "pygments_lexer": "ipython3",
   "version": "3.12.0"
  }
 },
 "nbformat": 4,
 "nbformat_minor": 5
}
