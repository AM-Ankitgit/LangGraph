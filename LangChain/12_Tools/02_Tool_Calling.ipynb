{
 "cells": [
  {
   "cell_type": "code",
   "execution_count": 1,
   "id": "4ec95cf9",
   "metadata": {},
   "outputs": [],
   "source": [
    "import os\n",
    "from langchain_groq import ChatGroq\n",
    "from langchain.schema import Document\n",
    "from dotenv import load_dotenv\n",
    "\n",
    "load_dotenv()\n",
    "\n",
    "os.environ['GROQ_API_KEY'] = os.getenv(\"GROQ_API_KEY\")\n",
    "model = ChatGroq(model=\"llama3-70b-8192\")\n"
   ]
  },
  {
   "cell_type": "code",
   "execution_count": 2,
   "id": "c997e917",
   "metadata": {},
   "outputs": [],
   "source": [
    "# Build Currancy Converter\n",
    "import requests\n",
    "\n",
    "os.environ['Exchange_Rate_API'] = os.getenv(\"Exchange_Rate_API\")"
   ]
  },
  {
   "cell_type": "code",
   "execution_count": 3,
   "id": "be19c698",
   "metadata": {},
   "outputs": [],
   "source": [
    "from langchain_core.tools import tool\n",
    "@tool\n",
    "def get_conversion_factor(base_currency:str,target_currency:str)->float:\n",
    "    \"\"\"\n",
    "    This function fetches the currency conversion factor between a given base currency and a target currency\n",
    "    \"\"\"\n",
    "    url = f'https://v6.exchangerate-api.com/v6/c754eab14ffab33112e380ca/pair/{base_currency}/{target_currency}'\n",
    "    response = requests.get(url=url)\n",
    "    return response.json()\n",
    "\n",
    "\n",
    "\n",
    "# @tool\n",
    "# def get_conversion_factor(base_currency: str, target_currency: str) -> float:\n",
    "#   \"\"\"\n",
    "#   This function fetches the currency conversion factor between a given base currency and a target currency\n",
    "#   \"\"\"\n",
    "#   url = f'https://v6.exchangerate-api.com/v6/c754eab14ffab33112e380ca/pair/{base_currency}/{target_currency}'\n",
    "\n",
    "#   response = requests.get(url)\n",
    "\n",
    "#   return response.json()\n"
   ]
  },
  {
   "cell_type": "code",
   "execution_count": 4,
   "id": "95358eff",
   "metadata": {},
   "outputs": [
    {
     "data": {
      "text/plain": [
       "{'result': 'success',\n",
       " 'documentation': 'https://www.exchangerate-api.com/docs',\n",
       " 'terms_of_use': 'https://www.exchangerate-api.com/terms',\n",
       " 'time_last_update_unix': 1751587201,\n",
       " 'time_last_update_utc': 'Fri, 04 Jul 2025 00:00:01 +0000',\n",
       " 'time_next_update_unix': 1751673601,\n",
       " 'time_next_update_utc': 'Sat, 05 Jul 2025 00:00:01 +0000',\n",
       " 'base_code': 'USD',\n",
       " 'target_code': 'INR',\n",
       " 'conversion_rate': 85.4393}"
      ]
     },
     "execution_count": 4,
     "metadata": {},
     "output_type": "execute_result"
    }
   ],
   "source": [
    "get_conversion_factor.invoke({\"base_currency\":\"USD\",\"target_currency\":'inr'})"
   ]
  },
  {
   "cell_type": "code",
   "execution_count": 5,
   "id": "30e3edec",
   "metadata": {},
   "outputs": [],
   "source": [
    "from langchain_core.tools import InjectedToolArg\n",
    "from typing import Annotated\n",
    "@tool\n",
    "def convert(base_currency_value: int, conversion_rate: Annotated[float, InjectedToolArg]) -> float:\n",
    "  \"\"\"\n",
    "  given a currency conversion rate this function calculates the target currency value from a given base currency value\n",
    "  \"\"\"\n",
    "\n",
    "  return base_currency_value * conversion_rate"
   ]
  },
  {
   "cell_type": "code",
   "execution_count": 6,
   "id": "35f9bef6",
   "metadata": {},
   "outputs": [
    {
     "name": "stderr",
     "output_type": "stream",
     "text": [
      "C:\\Users\\ANKIT\\AppData\\Local\\Temp\\ipykernel_13576\\1505291774.py:1: LangChainDeprecationWarning: The method `BaseTool.__call__` was deprecated in langchain-core 0.1.47 and will be removed in 1.0. Use :meth:`~invoke` instead.\n",
      "  convert({\"base_currency_value\":10,\"conversion_rate\":25})\n"
     ]
    },
    {
     "data": {
      "text/plain": [
       "250.0"
      ]
     },
     "execution_count": 6,
     "metadata": {},
     "output_type": "execute_result"
    }
   ],
   "source": [
    "convert({\"base_currency_value\":10,\"conversion_rate\":25})"
   ]
  },
  {
   "cell_type": "code",
   "execution_count": 7,
   "id": "553c3a63",
   "metadata": {},
   "outputs": [
    {
     "data": {
      "text/plain": [
       "{'base_currency_value': {'title': 'Base Currency Value', 'type': 'integer'},\n",
       " 'conversion_rate': {'title': 'Conversion Rate', 'type': 'number'}}"
      ]
     },
     "execution_count": 7,
     "metadata": {},
     "output_type": "execute_result"
    }
   ],
   "source": [
    "convert.args"
   ]
  },
  {
   "cell_type": "code",
   "execution_count": 8,
   "id": "8ee77fd3",
   "metadata": {},
   "outputs": [],
   "source": [
    "llm_with_tools = model.bind_tools([get_conversion_factor, convert])\n"
   ]
  },
  {
   "cell_type": "code",
   "execution_count": 9,
   "id": "492d84d6",
   "metadata": {},
   "outputs": [],
   "source": [
    "from langchain_core.messages import HumanMessage\n",
    "\n",
    "messages = [HumanMessage('convert 10 Inr into USD')]"
   ]
  },
  {
   "cell_type": "code",
   "execution_count": 10,
   "id": "df8ec6a8",
   "metadata": {},
   "outputs": [
    {
     "data": {
      "text/plain": [
       "[{'name': 'get_conversion_factor',\n",
       "  'args': {'base_currency': 'INR', 'target_currency': 'USD'},\n",
       "  'id': 'qfktevm32',\n",
       "  'type': 'tool_call'},\n",
       " {'name': 'convert',\n",
       "  'args': {'base_currency_value': 10},\n",
       "  'id': '92h4qz74v',\n",
       "  'type': 'tool_call'}]"
      ]
     },
     "execution_count": 10,
     "metadata": {},
     "output_type": "execute_result"
    }
   ],
   "source": [
    "ai_message = llm_with_tools.invoke(messages)\n",
    "ai_message.tool_calls\n"
   ]
  },
  {
   "cell_type": "code",
   "execution_count": null,
   "id": "a58062ec",
   "metadata": {},
   "outputs": [],
   "source": []
  }
 ],
 "metadata": {
  "kernelspec": {
   "display_name": "llmenv",
   "language": "python",
   "name": "python3"
  },
  "language_info": {
   "codemirror_mode": {
    "name": "ipython",
    "version": 3
   },
   "file_extension": ".py",
   "mimetype": "text/x-python",
   "name": "python",
   "nbconvert_exporter": "python",
   "pygments_lexer": "ipython3",
   "version": "3.12.0"
  }
 },
 "nbformat": 4,
 "nbformat_minor": 5
}
