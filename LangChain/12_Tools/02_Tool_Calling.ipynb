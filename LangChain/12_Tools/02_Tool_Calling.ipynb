{
 "cells": [
  {
   "cell_type": "code",
   "execution_count": 10,
   "id": "4ec95cf9",
   "metadata": {},
   "outputs": [],
   "source": [
    "import os\n",
    "from langchain_groq import ChatGroq\n",
    "from langchain.schema import Document\n",
    "from dotenv import load_dotenv\n",
    "\n",
    "load_dotenv()\n",
    "\n",
    "os.environ['GROQ_API_KEY'] = os.getenv(\"GROQ_API_KEY\")\n",
    "model = ChatGroq(model=\"llama3-70b-8192\")\n"
   ]
  },
  {
   "cell_type": "code",
   "execution_count": 11,
   "id": "c997e917",
   "metadata": {},
   "outputs": [],
   "source": [
    "# Build Currancy Converter\n",
    "\n",
    "os.environ['Exchange_Rate_API'] = os.getenv(\"Exchange_Rate_API\")"
   ]
  },
  {
   "cell_type": "code",
   "execution_count": null,
   "id": "be19c698",
   "metadata": {},
   "outputs": [],
   "source": [
    "@tool\n",
    "def get_conversion_factor(baseCurrency:str,targetCurrency:str)->float:\n",
    "    \"\"\"\n",
    "    This function fetches the currency conversion factor between a given base currency and a target currency\n",
    "    \"\"\"\n",
    "    url = f'https://v6.exchangerate-api.com/v6/c754eab14ffab33112e380ca/pair/{baseCurrency}/{targetCurrency}'\n",
    "    \n",
    "\n"
   ]
  },
  {
   "cell_type": "code",
   "execution_count": null,
   "id": "95358eff",
   "metadata": {},
   "outputs": [],
   "source": []
  },
  {
   "cell_type": "code",
   "execution_count": null,
   "id": "4d28ec0f",
   "metadata": {},
   "outputs": [],
   "source": []
  },
  {
   "cell_type": "code",
   "execution_count": null,
   "id": "f3bccda4",
   "metadata": {},
   "outputs": [],
   "source": []
  }
 ],
 "metadata": {
  "kernelspec": {
   "display_name": "llmenv",
   "language": "python",
   "name": "python3"
  },
  "language_info": {
   "codemirror_mode": {
    "name": "ipython",
    "version": 3
   },
   "file_extension": ".py",
   "mimetype": "text/x-python",
   "name": "python",
   "nbconvert_exporter": "python",
   "pygments_lexer": "ipython3",
   "version": "3.12.0"
  }
 },
 "nbformat": 4,
 "nbformat_minor": 5
}
