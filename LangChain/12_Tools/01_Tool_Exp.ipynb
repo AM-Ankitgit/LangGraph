{
 "cells": [
  {
   "cell_type": "code",
   "execution_count": 1,
   "id": "19dca5d7",
   "metadata": {},
   "outputs": [
    {
     "name": "stderr",
     "output_type": "stream",
     "text": [
      "\n",
      "[notice] A new release of pip is available: 23.2.1 -> 25.1.1\n",
      "[notice] To update, run: python.exe -m pip install --upgrade pip\n"
     ]
    }
   ],
   "source": [
    "!pip install -q duckduckgo-search langchain_experimental"
   ]
  },
  {
   "cell_type": "code",
   "execution_count": 2,
   "id": "53c4cda2",
   "metadata": {},
   "outputs": [],
   "source": [
    "# Build Search Tool using DuckDuckGoSearch\n",
    "\n",
    "from langchain_community.tools import DuckDuckGoSearchRun, DuckDuckGoSearchResults"
   ]
  },
  {
   "cell_type": "code",
   "execution_count": 3,
   "id": "a8c3c4ee",
   "metadata": {},
   "outputs": [
    {
     "data": {
      "text/plain": [
       "\"Top News Stories of the day, Latest News Headlines, News Specials, Breaking News and Latest India News, World current affairs & Political News all around the clock at NDTV.com. Read all India news and breaking news today from India on politics, business, entertainment, technology, sports, lifestyle and more at CNBC TV18. LIVE news updates: Pahalgam attack was act of economic warfare, says EAM Jaishankar Today's top updates: S Jaishankar will travel to Washington DC to participate in the Quad Foreign Ministers' Meeting on Tuesday. Catch all the news developments from around the world here Get Top News of the day with latest top news headlines of today. Get updated with current top news stories from India and the world only on Zee News. Get all the latest news, live updates and content about India from across the BBC.\""
      ]
     },
     "execution_count": 3,
     "metadata": {},
     "output_type": "execute_result"
    }
   ],
   "source": [
    "search_tool = DuckDuckGoSearchRun()\n",
    "\n",
    "search_tool.invoke('top news in india today')"
   ]
  },
  {
   "cell_type": "code",
   "execution_count": 4,
   "id": "67fdeb97",
   "metadata": {},
   "outputs": [
    {
     "name": "stdout",
     "output_type": "stream",
     "text": [
      "        +----------+         \n",
      "        | DDGInput |         \n",
      "        +----------+         \n",
      "              *              \n",
      "              *              \n",
      "              *              \n",
      "    +-------------------+    \n",
      "    | duckduckgo_search |    \n",
      "    +-------------------+    \n",
      "              *              \n",
      "              *              \n",
      "              *              \n",
      "+--------------------------+ \n",
      "| duckduckgo_search_output | \n",
      "+--------------------------+ \n"
     ]
    }
   ],
   "source": [
    "search_tool.get_graph().print_ascii()"
   ]
  },
  {
   "cell_type": "code",
   "execution_count": 5,
   "id": "17151e22",
   "metadata": {},
   "outputs": [
    {
     "name": "stdout",
     "output_type": "stream",
     "text": [
      "duckduckgo_search\n",
      "{'query': {'description': 'search query to look up', 'title': 'Query', 'type': 'string'}}\n",
      "A wrapper around DuckDuckGo Search. Useful for when you need to answer questions about current events. Input should be a search query.\n"
     ]
    }
   ],
   "source": [
    "print(search_tool.name)\n",
    "print(search_tool.args)\n",
    "print(search_tool.description)"
   ]
  },
  {
   "cell_type": "markdown",
   "id": "26f12700",
   "metadata": {},
   "source": [
    "# Built-in Tool - Shell Tool"
   ]
  },
  {
   "cell_type": "code",
   "execution_count": 6,
   "id": "98b0fbbd",
   "metadata": {},
   "outputs": [],
   "source": [
    "from langchain_community.tools import ShellTool"
   ]
  },
  {
   "cell_type": "code",
   "execution_count": 7,
   "id": "3922012e",
   "metadata": {},
   "outputs": [],
   "source": [
    "shell_tool = ShellTool()    # this tool is use to run command \n"
   ]
  },
  {
   "cell_type": "code",
   "execution_count": 8,
   "id": "b7b6b589",
   "metadata": {},
   "outputs": [
    {
     "name": "stdout",
     "output_type": "stream",
     "text": [
      "Executing command:\n",
      " dir\n"
     ]
    },
    {
     "name": "stderr",
     "output_type": "stream",
     "text": [
      "f:\\study\\LangGraph_LangChain\\llmenv\\Lib\\site-packages\\langchain_community\\tools\\shell\\tool.py:33: UserWarning: The shell tool has no safeguards by default. Use at your own risk.\n",
      "  warnings.warn(\n"
     ]
    },
    {
     "data": {
      "text/plain": [
       "' Volume in drive F has no label.\\r\\n Volume Serial Number is CCA1-D187\\r\\n\\r\\n Directory of f:\\\\study\\\\LangGraph_LangChain\\\\LangChain\\\\12_Tools\\r\\n\\r\\n07/02/2025  02:11 PM    <DIR>          .\\r\\n07/02/2025  10:49 AM    <DIR>          ..\\r\\n06/27/2025  04:20 PM         2,788,678 00_Basic.ipynb\\r\\n07/02/2025  02:14 PM            15,479 01_Tool_Exp.ipynb\\r\\n07/02/2025  02:11 PM               930 02_Tool_Calling.ipynb\\r\\n               3 File(s)      2,805,087 bytes\\r\\n               2 Dir(s)  285,483,634,688 bytes free\\r\\n'"
      ]
     },
     "execution_count": 8,
     "metadata": {},
     "output_type": "execute_result"
    }
   ],
   "source": [
    "result = shell_tool.invoke(\"dir\") # it showing the all directory \n",
    "result"
   ]
  },
  {
   "cell_type": "code",
   "execution_count": 9,
   "id": "8667f74e",
   "metadata": {},
   "outputs": [
    {
     "data": {
      "text/plain": [
       "' Volume in drive F has no label.\\r\\n Volume Serial Number is CCA1-D187\\r\\n\\r\\n Directory of f:\\\\study\\\\LangGraph_LangChain\\\\LangChain\\\\12_Tools\\r\\n\\r\\n07/02/2025  02:11 PM    <DIR>          .\\r\\n07/02/2025  10:49 AM    <DIR>          ..\\r\\n06/27/2025  04:20 PM         2,788,678 00_Basic.ipynb\\r\\n07/02/2025  02:14 PM            15,479 01_Tool_Exp.ipynb\\r\\n07/02/2025  02:11 PM               930 02_Tool_Calling.ipynb\\r\\n               3 File(s)      2,805,087 bytes\\r\\n               2 Dir(s)  285,483,634,688 bytes free\\r\\n'"
      ]
     },
     "execution_count": 9,
     "metadata": {},
     "output_type": "execute_result"
    }
   ],
   "source": [
    "result"
   ]
  },
  {
   "cell_type": "markdown",
   "id": "6efd722f",
   "metadata": {},
   "source": [
    "# Create Custom Tools"
   ]
  },
  {
   "cell_type": "code",
   "execution_count": 10,
   "id": "0d46918a",
   "metadata": {},
   "outputs": [],
   "source": [
    "# step 1 : create a function\n",
    "\n",
    "from langchain_core.tools import tool\n",
    "\n",
    "@tool\n",
    "def multiply(a:int,b:int)->int:\n",
    "    \"\"\"Multiply two numbers\"\"\"\n",
    "    return a*b"
   ]
  },
  {
   "cell_type": "code",
   "execution_count": 11,
   "id": "ab4590a1",
   "metadata": {},
   "outputs": [
    {
     "data": {
      "text/plain": [
       "10"
      ]
     },
     "execution_count": 11,
     "metadata": {},
     "output_type": "execute_result"
    }
   ],
   "source": [
    "multiply.invoke({\"a\":1,\"b\":10})"
   ]
  },
  {
   "cell_type": "code",
   "execution_count": 12,
   "id": "c8e5dd81",
   "metadata": {},
   "outputs": [
    {
     "name": "stdout",
     "output_type": "stream",
     "text": [
      "multiply\n",
      "{'a': {'title': 'A', 'type': 'integer'}, 'b': {'title': 'B', 'type': 'integer'}}\n",
      "Multiply two numbers\n"
     ]
    }
   ],
   "source": [
    "print(multiply.name)\n",
    "print(multiply.args)\n",
    "print(multiply.description)"
   ]
  },
  {
   "cell_type": "markdown",
   "id": "49a8f958",
   "metadata": {},
   "source": [
    "# Method 2 - Using StructuredTool"
   ]
  },
  {
   "cell_type": "code",
   "execution_count": 13,
   "id": "dcdd1121",
   "metadata": {},
   "outputs": [],
   "source": [
    "from langchain.tools import StructuredTool\n",
    "from pydantic import BaseModel,Field\n"
   ]
  },
  {
   "cell_type": "code",
   "execution_count": 14,
   "id": "fa2df83e",
   "metadata": {},
   "outputs": [],
   "source": [
    "class MultiplyInput(BaseModel):\n",
    "    a:int=Field(...,description=\"Enter interger value of a\")\n",
    "    b:int=Field(...,description=\"Enter interger value of b\")  # The ... is a shorthand for saying “no default value, this field is required”."
   ]
  },
  {
   "cell_type": "code",
   "execution_count": 15,
   "id": "942d8569",
   "metadata": {},
   "outputs": [],
   "source": [
    "def multiply(a:int,b:int)->int:\n",
    "    return a*b"
   ]
  },
  {
   "cell_type": "code",
   "execution_count": 16,
   "id": "de3c9fdb",
   "metadata": {},
   "outputs": [],
   "source": [
    "from langchain.tools import StructuredTool"
   ]
  },
  {
   "cell_type": "code",
   "execution_count": 17,
   "id": "97cf69b1",
   "metadata": {},
   "outputs": [],
   "source": [
    "multiply_tool = StructuredTool.from_function(func=multiply,\n",
    "                                             name=\"mulitplyfunction\",\n",
    "                                             description=\"it use to multiple two function\",\n",
    "                                             args_schema=MultiplyInput)\n",
    "\n"
   ]
  },
  {
   "cell_type": "code",
   "execution_count": 18,
   "id": "27902b85",
   "metadata": {},
   "outputs": [
    {
     "data": {
      "text/plain": [
       "10"
      ]
     },
     "execution_count": 18,
     "metadata": {},
     "output_type": "execute_result"
    }
   ],
   "source": [
    "multiply_tool.invoke({\"a\":1,\"b\":10})"
   ]
  },
  {
   "cell_type": "code",
   "execution_count": 19,
   "id": "71c2b0c0",
   "metadata": {},
   "outputs": [],
   "source": [
    "import os\n",
    "from langchain_groq import ChatGroq\n",
    "from langchain.schema import Document\n",
    "\n",
    "os.environ['GROQ_API_KEY'] = os.getenv(\"GROQ_API_KEY\")\n",
    "model = ChatGroq(model=\"llama3-70b-8192\")\n"
   ]
  },
  {
   "cell_type": "code",
   "execution_count": 26,
   "id": "1744a914",
   "metadata": {},
   "outputs": [],
   "source": [
    "messages = []"
   ]
  },
  {
   "cell_type": "code",
   "execution_count": 27,
   "id": "a540d922",
   "metadata": {},
   "outputs": [],
   "source": [
    "bound_model = model.bind_tools([multiply_tool])"
   ]
  },
  {
   "cell_type": "markdown",
   "id": "b6e791dd",
   "metadata": {},
   "source": [
    "# important \n",
    "\n",
    "`content is empty string always remember model never execut the tool it suggest suggest which tool may use to perform task`"
   ]
  },
  {
   "cell_type": "code",
   "execution_count": 28,
   "id": "d83222f7",
   "metadata": {},
   "outputs": [
    {
     "data": {
      "text/plain": [
       "AIMessage(content='', additional_kwargs={'tool_calls': [{'id': 'yt16bbcms', 'function': {'arguments': '{\"a\":30,\"b\":20}', 'name': 'mulitplyfunction'}, 'type': 'function'}]}, response_metadata={'token_usage': {'completion_tokens': 39, 'prompt_tokens': 929, 'total_tokens': 968, 'completion_time': 0.140522494, 'prompt_time': 0.037055716, 'queue_time': 0.05797213899999999, 'total_time': 0.17757821}, 'model_name': 'llama3-70b-8192', 'system_fingerprint': 'fp_dd4ae1c591', 'finish_reason': 'tool_calls', 'logprobs': None}, id='run--000aaa13-2b13-499c-b8ca-99a0144ffa7b-0', tool_calls=[{'name': 'mulitplyfunction', 'args': {'a': 30, 'b': 20}, 'id': 'yt16bbcms', 'type': 'tool_call'}], usage_metadata={'input_tokens': 929, 'output_tokens': 39, 'total_tokens': 968})"
      ]
     },
     "execution_count": 28,
     "metadata": {},
     "output_type": "execute_result"
    }
   ],
   "source": [
    "from langchain_core.messages import HumanMessage, AIMessage\n",
    "query = HumanMessage(content=\"what is multiplication of 30,20\")\n",
    "\n",
    "messages.append(query)\n",
    "\n",
    "tool_result= bound_model.invoke(messages) # content is empty string always remember model never execut the tool it suggest suggest which tool may use to perform task\n",
    "\n",
    "tool_result\n"
   ]
  },
  {
   "cell_type": "code",
   "execution_count": 29,
   "id": "eb09d7a7",
   "metadata": {},
   "outputs": [
    {
     "data": {
      "text/plain": [
       "[HumanMessage(content='what is multiplication of 30,20', additional_kwargs={}, response_metadata={}),\n",
       " AIMessage(content='', additional_kwargs={'tool_calls': [{'id': 'yt16bbcms', 'function': {'arguments': '{\"a\":30,\"b\":20}', 'name': 'mulitplyfunction'}, 'type': 'function'}]}, response_metadata={'token_usage': {'completion_tokens': 39, 'prompt_tokens': 929, 'total_tokens': 968, 'completion_time': 0.140522494, 'prompt_time': 0.037055716, 'queue_time': 0.05797213899999999, 'total_time': 0.17757821}, 'model_name': 'llama3-70b-8192', 'system_fingerprint': 'fp_dd4ae1c591', 'finish_reason': 'tool_calls', 'logprobs': None}, id='run--000aaa13-2b13-499c-b8ca-99a0144ffa7b-0', tool_calls=[{'name': 'mulitplyfunction', 'args': {'a': 30, 'b': 20}, 'id': 'yt16bbcms', 'type': 'tool_call'}], usage_metadata={'input_tokens': 929, 'output_tokens': 39, 'total_tokens': 968}),\n",
       " ToolMessage(content='600', name='mulitplyfunction', tool_call_id='yt16bbcms')]"
      ]
     },
     "execution_count": 29,
     "metadata": {},
     "output_type": "execute_result"
    }
   ],
   "source": [
    "import json\n",
    "\n",
    "def extract_tool(tool_result):\n",
    "    # print(tool_result)\n",
    "\n",
    "    \n",
    "    messages.append(tool_result)\n",
    "    all_tools = tool_result.tool_calls\n",
    "    for tool in all_tools:\n",
    "        if tool['name']==\"mulitplyfunction\":\n",
    "            result = multiply_tool.invoke(tool)\n",
    "            messages.append(result)\n",
    "            # message_list.append(AIMessage(content=json.dumps(result)))\n",
    "    return messages\n",
    "\n",
    "final_result = extract_tool(tool_result)\n",
    "final_result"
   ]
  },
  {
   "cell_type": "code",
   "execution_count": 30,
   "id": "f2cbc07c",
   "metadata": {},
   "outputs": [
    {
     "data": {
      "text/plain": [
       "[HumanMessage(content='what is multiplication of 30,20', additional_kwargs={}, response_metadata={}),\n",
       " AIMessage(content='', additional_kwargs={'tool_calls': [{'id': 'yt16bbcms', 'function': {'arguments': '{\"a\":30,\"b\":20}', 'name': 'mulitplyfunction'}, 'type': 'function'}]}, response_metadata={'token_usage': {'completion_tokens': 39, 'prompt_tokens': 929, 'total_tokens': 968, 'completion_time': 0.140522494, 'prompt_time': 0.037055716, 'queue_time': 0.05797213899999999, 'total_time': 0.17757821}, 'model_name': 'llama3-70b-8192', 'system_fingerprint': 'fp_dd4ae1c591', 'finish_reason': 'tool_calls', 'logprobs': None}, id='run--000aaa13-2b13-499c-b8ca-99a0144ffa7b-0', tool_calls=[{'name': 'mulitplyfunction', 'args': {'a': 30, 'b': 20}, 'id': 'yt16bbcms', 'type': 'tool_call'}], usage_metadata={'input_tokens': 929, 'output_tokens': 39, 'total_tokens': 968}),\n",
       " ToolMessage(content='600', name='mulitplyfunction', tool_call_id='yt16bbcms')]"
      ]
     },
     "execution_count": 30,
     "metadata": {},
     "output_type": "execute_result"
    }
   ],
   "source": [
    "messages"
   ]
  },
  {
   "cell_type": "code",
   "execution_count": 32,
   "id": "a02a7ae7",
   "metadata": {},
   "outputs": [
    {
     "data": {
      "text/plain": [
       "'The result of multiplying 30 and 20 is 600.'"
      ]
     },
     "execution_count": 32,
     "metadata": {},
     "output_type": "execute_result"
    }
   ],
   "source": [
    "bound_model.invoke(messages).content"
   ]
  },
  {
   "cell_type": "markdown",
   "id": "2f9df186",
   "metadata": {},
   "source": [
    "# ToolKit"
   ]
  },
  {
   "cell_type": "code",
   "execution_count": 42,
   "id": "6e624443",
   "metadata": {},
   "outputs": [],
   "source": [
    "# Custom tools\n",
    "@tool\n",
    "def add(a: int, b: int) -> int:\n",
    "    \"\"\"Add two numbers\"\"\"\n",
    "    return a + b\n",
    "\n",
    "@tool\n",
    "def multiply(a: int, b: int) -> int:\n",
    "    \"\"\"Multiply two numbers\"\"\"\n",
    "    return a * b"
   ]
  },
  {
   "cell_type": "code",
   "execution_count": 43,
   "id": "366e9b00",
   "metadata": {},
   "outputs": [],
   "source": [
    "class MathToolkit:\n",
    "    def get_tools(self):\n",
    "        return [add, multiply]"
   ]
  },
  {
   "cell_type": "code",
   "execution_count": 44,
   "id": "11e0b027",
   "metadata": {},
   "outputs": [
    {
     "name": "stdout",
     "output_type": "stream",
     "text": [
      "add => Add two numbers\n",
      "multiply => Multiply two numbers\n"
     ]
    }
   ],
   "source": [
    "toolkit = MathToolkit()\n",
    "tools = toolkit.get_tools()\n",
    "\n",
    "for tool in tools:\n",
    "    print(tool.name, \"=>\", tool.description)"
   ]
  },
  {
   "cell_type": "code",
   "execution_count": null,
   "id": "6beab7c4",
   "metadata": {},
   "outputs": [],
   "source": []
  }
 ],
 "metadata": {
  "kernelspec": {
   "display_name": "llmenv",
   "language": "python",
   "name": "python3"
  },
  "language_info": {
   "codemirror_mode": {
    "name": "ipython",
    "version": 3
   },
   "file_extension": ".py",
   "mimetype": "text/x-python",
   "name": "python",
   "nbconvert_exporter": "python",
   "pygments_lexer": "ipython3",
   "version": "3.12.0"
  }
 },
 "nbformat": 4,
 "nbformat_minor": 5
}
