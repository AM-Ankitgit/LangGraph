{
 "cells": [
  {
   "cell_type": "code",
   "execution_count": 1,
   "id": "48d23799",
   "metadata": {},
   "outputs": [],
   "source": [
    "import os\n",
    "from langchain_groq import ChatGroq\n",
    "from langchain.schema import Document\n",
    "\n",
    "os.environ['GROQ_API_KEY'] = os.getenv(\"GROQ_API_KEY\")\n",
    "model = ChatGroq(model=\"llama3-70b-8192\")"
   ]
  },
  {
   "cell_type": "code",
   "execution_count": 2,
   "id": "44f24e4e",
   "metadata": {},
   "outputs": [],
   "source": [
    "from langchain_chroma import Chroma\n",
    "\n",
    "doc1 = Document(\n",
    "        page_content=\"Virat Kohli is one of the most successful and consistent batsmen in IPL history. Known for his aggressive batting style and fitness, he has led the Royal Challengers Bangalore in multiple seasons.\",\n",
    "        metadata={\"team\": \"Royal Challengers Bangalore\"}\n",
    "    )\n",
    "doc2 = Document(\n",
    "        page_content=\"Rohit Sharma is the most successful captain in IPL history, leading Mumbai Indians to five titles. He's known for his calm demeanor and ability to play big innings under pressure.\",\n",
    "        metadata={\"team\": \"Mumbai Indians\"}\n",
    "    )\n",
    "doc3 = Document(\n",
    "        page_content=\"MS Dhoni, famously known as Captain Cool, has led Chennai Super Kings to multiple IPL titles. His finishing skills, wicketkeeping, and leadership are legendary.\",\n",
    "        metadata={\"team\": \"Chennai Super Kings\"}\n",
    "    )\n",
    "doc4 = Document(\n",
    "        page_content=\"Jasprit Bumrah is considered one of the best fast bowlers in T20 cricket. Playing for Mumbai Indians, he is known for his yorkers and death-over expertise.\",\n",
    "        metadata={\"team\": \"Mumbai Indians\"}\n",
    "    )\n",
    "doc5 = Document(\n",
    "        page_content=\"Ravindra Jadeja is a dynamic all-rounder who contributes with both bat and ball. Representing Chennai Super Kings, his quick fielding and match-winning performances make him a key player.\",\n",
    "        metadata={\"team\": \"Chennai Super Kings\"}\n",
    "    )\n"
   ]
  },
  {
   "cell_type": "code",
   "execution_count": null,
   "id": "28f21e61",
   "metadata": {},
   "outputs": [],
   "source": [
    "all_doc = [doc1,doc2,doc3,doc4,doc5]\n",
    "\n",
    "from langchain.embeddings import HuggingFaceEmbeddings\n"
   ]
  },
  {
   "cell_type": "code",
   "execution_count": null,
   "id": "1bc68b02",
   "metadata": {},
   "outputs": [],
   "source": [
    "huggingfacehub_api_token = os.getenv(\"HUGGINGFACEHUB_API_TOKEN\")\n",
    "# embeddingmodels = HuggingFaceHubEmbeddings(huggingfacehub_api_token=huggingfacehub_api_token)\n"
   ]
  },
  {
   "cell_type": "code",
   "execution_count": 5,
   "id": "cec7712d",
   "metadata": {},
   "outputs": [
    {
     "name": "stderr",
     "output_type": "stream",
     "text": [
      "C:\\Users\\ANKIT\\AppData\\Local\\Temp\\ipykernel_1628\\2734244670.py:1: LangChainDeprecationWarning: The class `HuggingFaceEmbeddings` was deprecated in LangChain 0.2.2 and will be removed in 1.0. An updated version of the class exists in the :class:`~langchain-huggingface package and should be used instead. To use it run `pip install -U :class:`~langchain-huggingface` and import as `from :class:`~langchain_huggingface import HuggingFaceEmbeddings``.\n",
      "  embedding_model = HuggingFaceEmbeddings(model_name=\"sentence-transformers/all-MiniLM-L6-v2\")\n",
      "f:\\study\\LangGraph_LangChain\\llmenv\\Lib\\site-packages\\tqdm\\auto.py:21: TqdmWarning: IProgress not found. Please update jupyter and ipywidgets. See https://ipywidgets.readthedocs.io/en/stable/user_install.html\n",
      "  from .autonotebook import tqdm as notebook_tqdm\n",
      "f:\\study\\LangGraph_LangChain\\llmenv\\Lib\\site-packages\\huggingface_hub\\file_download.py:143: UserWarning: `huggingface_hub` cache-system uses symlinks by default to efficiently store duplicated files but your machine does not support them in C:\\Users\\ANKIT\\.cache\\huggingface\\hub\\models--sentence-transformers--all-MiniLM-L6-v2. Caching files will still work but in a degraded version that might require more space on your disk. This warning can be disabled by setting the `HF_HUB_DISABLE_SYMLINKS_WARNING` environment variable. For more details, see https://huggingface.co/docs/huggingface_hub/how-to-cache#limitations.\n",
      "To support symlinks on Windows, you either need to activate Developer Mode or to run Python as an administrator. In order to activate developer mode, see this article: https://docs.microsoft.com/en-us/windows/apps/get-started/enable-your-device-for-development\n",
      "  warnings.warn(message)\n",
      "Xet Storage is enabled for this repo, but the 'hf_xet' package is not installed. Falling back to regular HTTP download. For better performance, install the package with: `pip install huggingface_hub[hf_xet]` or `pip install hf_xet`\n"
     ]
    }
   ],
   "source": [
    "embedding_model = HuggingFaceEmbeddings(model_name=\"sentence-transformers/all-MiniLM-L6-v2\")\n"
   ]
  },
  {
   "cell_type": "code",
   "execution_count": 12,
   "id": "0b3999f9",
   "metadata": {},
   "outputs": [
    {
     "data": {
      "text/plain": [
       "[-0.031368985772132874,\n",
       " 0.03783052787184715,\n",
       " 0.07630816102027893,\n",
       " 0.04569966346025467,\n",
       " -0.0012047025375068188,\n",
       " -0.0747690349817276,\n",
       " 0.08157845586538315,\n",
       " 0.010209387168288231,\n",
       " -0.11220550537109375,\n",
       " 0.04073430225253105,\n",
       " -0.04470572620630264,\n",
       " -0.009028668515384197,\n",
       " -0.02297620102763176,\n",
       " -0.009182487614452839,\n",
       " 0.0071335542015731335,\n",
       " -0.035297222435474396,\n",
       " 0.07896503061056137,\n",
       " -0.09915594011545181,\n",
       " -0.12103824317455292,\n",
       " 0.03257370367646217,\n",
       " -0.0991877019405365,\n",
       " 0.031969524919986725,\n",
       " 0.0017395040486007929,\n",
       " 0.0881587564945221,\n",
       " -0.026670066639780998,\n",
       " 0.01709163188934326,\n",
       " -0.041350651532411575,\n",
       " -0.03918195888400078,\n",
       " 0.035009175539016724,\n",
       " -0.07608213275671005,\n",
       " -0.0647241547703743,\n",
       " 0.02267622947692871,\n",
       " -0.049569036811590195,\n",
       " -0.027594156563282013,\n",
       " -0.057269565761089325,\n",
       " -0.04053010419011116,\n",
       " 0.0165402851998806,\n",
       " -0.10059665888547897,\n",
       " -0.04873248189687729,\n",
       " -0.0227845199406147,\n",
       " 0.02085500955581665,\n",
       " -0.06302399933338165,\n",
       " -0.01944424770772457,\n",
       " -0.027309579774737358,\n",
       " 0.07852303236722946,\n",
       " -0.041142236441373825,\n",
       " 0.015361474826931953,\n",
       " 0.033487237989902496,\n",
       " 0.09579641371965408,\n",
       " 0.059215981513261795,\n",
       " -0.09707316756248474,\n",
       " -0.023396052420139313,\n",
       " -0.059559084475040436,\n",
       " 0.029372597113251686,\n",
       " 0.02143268473446369,\n",
       " 0.0416531041264534,\n",
       " -0.033345963805913925,\n",
       " 0.04255331680178642,\n",
       " 0.039546024054288864,\n",
       " -0.011558021418750286,\n",
       " 0.06694884598255157,\n",
       " 0.02157553657889366,\n",
       " -0.06559111922979355,\n",
       " 0.01254553347826004,\n",
       " 0.08388128876686096,\n",
       " -0.025172755122184753,\n",
       " -0.052937425673007965,\n",
       " -0.023182816803455353,\n",
       " -0.030786851420998573,\n",
       " -0.0357745997607708,\n",
       " -0.04332030192017555,\n",
       " -0.06390702724456787,\n",
       " 0.04137127846479416,\n",
       " 0.049532875418663025,\n",
       " 0.02459121309220791,\n",
       " -0.06853343546390533,\n",
       " 0.04845771566033363,\n",
       " -0.025627031922340393,\n",
       " 0.04934026673436165,\n",
       " 0.06604212522506714,\n",
       " 0.03432872146368027,\n",
       " -0.005704811774194241,\n",
       " -0.017926368862390518,\n",
       " 0.04836336895823479,\n",
       " -0.09252982586622238,\n",
       " -0.03639189153909683,\n",
       " 0.0741921067237854,\n",
       " 0.10382238030433655,\n",
       " 0.0016491239657625556,\n",
       " 0.025995522737503052,\n",
       " -0.008603095076978207,\n",
       " 0.06778328865766525,\n",
       " 0.058682411909103394,\n",
       " 0.02612094208598137,\n",
       " -0.0020394199527800083,\n",
       " -0.020400453358888626,\n",
       " 0.11093257367610931,\n",
       " 0.016495857387781143,\n",
       " -0.09438548237085342,\n",
       " 0.20557962357997894,\n",
       " 6.356264930218458e-05,\n",
       " 0.06762678921222687,\n",
       " 0.02732015587389469,\n",
       " -0.014563638716936111,\n",
       " -0.006233713123947382,\n",
       " 0.02093902975320816,\n",
       " -0.06264740228652954,\n",
       " 0.06220564618706703,\n",
       " 0.024787789210677147,\n",
       " -0.029718855395913124,\n",
       " 0.00506884790956974,\n",
       " 0.010318178683519363,\n",
       " 0.014904191717505455,\n",
       " 0.07361367344856262,\n",
       " 0.06114422529935837,\n",
       " -0.013829279690980911,\n",
       " 0.030320199206471443,\n",
       " 0.0973958745598793,\n",
       " 0.018529752269387245,\n",
       " -0.00855962187051773,\n",
       " 0.0013024864019826055,\n",
       " 0.031101714819669724,\n",
       " 0.02343728207051754,\n",
       " 0.020182978361845016,\n",
       " -0.03551380708813667,\n",
       " 0.03168637678027153,\n",
       " 0.017260773107409477,\n",
       " -3.0588649712250255e-33,\n",
       " 0.0971435084939003,\n",
       " -0.06760364770889282,\n",
       " 0.054715368896722794,\n",
       " 0.09135312587022781,\n",
       " -0.06200646609067917,\n",
       " -0.006499482784420252,\n",
       " -0.010642723180353642,\n",
       " -0.038771163672208786,\n",
       " 0.024260491132736206,\n",
       " 0.061751872301101685,\n",
       " 0.033406857401132584,\n",
       " -0.007204093504697084,\n",
       " -0.057913221418857574,\n",
       " -0.001612395979464054,\n",
       " 0.039605800062417984,\n",
       " 0.001624084310606122,\n",
       " -0.06437239050865173,\n",
       " 0.06395558267831802,\n",
       " -0.01521964929997921,\n",
       " 0.11341607570648193,\n",
       " -0.0030629667453467846,\n",
       " -0.08828458189964294,\n",
       " -0.040041740983724594,\n",
       " 0.052697546780109406,\n",
       " 0.03218875080347061,\n",
       " -0.01979002170264721,\n",
       " -0.04312756657600403,\n",
       " -0.09375284612178802,\n",
       " -0.05182354897260666,\n",
       " -0.002925553824752569,\n",
       " -0.04850197210907936,\n",
       " 0.06024019420146942,\n",
       " 0.07291200011968613,\n",
       " -0.05422227084636688,\n",
       " 0.03923432528972626,\n",
       " -0.02208167128264904,\n",
       " -0.00238313851878047,\n",
       " -0.01450575701892376,\n",
       " -0.01211584359407425,\n",
       " 0.023651672527194023,\n",
       " -0.006617280654609203,\n",
       " -0.047918517142534256,\n",
       " 0.04393267631530762,\n",
       " -0.0637948140501976,\n",
       " -0.010415162891149521,\n",
       " -0.05301578715443611,\n",
       " -0.028898935765028,\n",
       " 0.029401743784546852,\n",
       " -0.05259527638554573,\n",
       " -0.05098628252744675,\n",
       " -0.028703581541776657,\n",
       " -0.014529789797961712,\n",
       " -0.08883088082075119,\n",
       " 0.03776964917778969,\n",
       " -0.015111763961613178,\n",
       " -0.029321029782295227,\n",
       " 0.007599112577736378,\n",
       " 0.017518943175673485,\n",
       " -0.0133923115208745,\n",
       " 0.027016442269086838,\n",
       " 0.0985575020313263,\n",
       " 0.1283467710018158,\n",
       " -0.025648020207881927,\n",
       " -0.07193616777658463,\n",
       " -0.13688725233078003,\n",
       " -0.04073032736778259,\n",
       " -0.007471789140254259,\n",
       " -0.010811184532940388,\n",
       " 0.03252275660634041,\n",
       " -0.14001233875751495,\n",
       " -0.012286810204386711,\n",
       " -0.013678019866347313,\n",
       " 0.06219332665205002,\n",
       " 0.00900696124881506,\n",
       " 0.03650645911693573,\n",
       " 0.025295745581388474,\n",
       " -0.031252775341272354,\n",
       " -0.051976483315229416,\n",
       " -0.03930608928203583,\n",
       " -0.05030853673815727,\n",
       " 0.0033788038417696953,\n",
       " 0.06378460675477982,\n",
       " -0.04486452043056488,\n",
       " -0.016197502613067627,\n",
       " -0.008314629085361958,\n",
       " -0.01222803071141243,\n",
       " -0.012702621519565582,\n",
       " -0.050273146480321884,\n",
       " 0.021776514127850533,\n",
       " 0.034449025988578796,\n",
       " -0.0281190425157547,\n",
       " 0.030802538618445396,\n",
       " 0.044856298714876175,\n",
       " -0.03271913155913353,\n",
       " -0.06445914506912231,\n",
       " 1.3999267117789866e-33,\n",
       " 0.050691913813352585,\n",
       " 0.006011285353451967,\n",
       " -0.03888985887169838,\n",
       " 0.04806940257549286,\n",
       " -0.1099603995680809,\n",
       " -0.029013656079769135,\n",
       " -0.021946847438812256,\n",
       " 0.06510303169488907,\n",
       " 0.025331608951091766,\n",
       " 0.05343769118189812,\n",
       " 0.06788872927427292,\n",
       " 0.0066992975771427155,\n",
       " 0.03844357281923294,\n",
       " 0.0038024571258574724,\n",
       " 0.014090216718614101,\n",
       " 0.00215154723264277,\n",
       " 0.07592231780290604,\n",
       " 0.010406962595880032,\n",
       " -0.03276285529136658,\n",
       " 0.018313182517886162,\n",
       " -0.06824953854084015,\n",
       " 0.072614386677742,\n",
       " -0.007787291891872883,\n",
       " 0.022177722305059433,\n",
       " -0.017466850578784943,\n",
       " 0.01313597708940506,\n",
       " -0.0008801220101304352,\n",
       " 0.011896718293428421,\n",
       " -0.02100258506834507,\n",
       " -0.030892355367541313,\n",
       " 0.06205052509903908,\n",
       " -0.04947247356176376,\n",
       " -0.07958327978849411,\n",
       " 0.0904965028166771,\n",
       " 0.08999094367027283,\n",
       " 0.05850697308778763,\n",
       " -0.026574891060590744,\n",
       " -0.027560116723179817,\n",
       " -0.07425222545862198,\n",
       " -0.059088535606861115,\n",
       " -0.0516854003071785,\n",
       " 0.06261247396469116,\n",
       " -0.003333521541208029,\n",
       " 0.05932200327515602,\n",
       " 0.11807966232299805,\n",
       " -0.04641555994749069,\n",
       " 0.033306870609521866,\n",
       " -0.005427601281553507,\n",
       " 0.0009774731006473303,\n",
       " 0.03412993252277374,\n",
       " 0.005460203625261784,\n",
       " -0.025392374023795128,\n",
       " -0.025914419442415237,\n",
       " 0.013216414488852024,\n",
       " 0.02535824291408062,\n",
       " -0.011485189199447632,\n",
       " 0.005777961108833551,\n",
       " -0.017485011368989944,\n",
       " -0.004324590787291527,\n",
       " 0.007074189838021994,\n",
       " 0.03866468369960785,\n",
       " 0.04003804549574852,\n",
       " -0.019887033849954605,\n",
       " 8.834480831865221e-05,\n",
       " 0.025714408606290817,\n",
       " 0.030556298792362213,\n",
       " -0.010257025249302387,\n",
       " -0.047175418585538864,\n",
       " -0.06016533076763153,\n",
       " -0.02751525491476059,\n",
       " -0.10169076919555664,\n",
       " 0.014528116211295128,\n",
       " -0.03164765611290932,\n",
       " -0.04429703205823898,\n",
       " 0.0015503434697166085,\n",
       " 0.006037499289959669,\n",
       " 0.0205437783151865,\n",
       " 0.023576991632580757,\n",
       " -0.012701371684670448,\n",
       " -0.032529354095458984,\n",
       " -0.10090070217847824,\n",
       " 0.007635399699211121,\n",
       " 0.0710347518324852,\n",
       " -0.072563037276268,\n",
       " -0.1273844987154007,\n",
       " -0.10806909203529358,\n",
       " 0.07306640595197678,\n",
       " 0.006823916453868151,\n",
       " 0.039499431848526,\n",
       " 0.040367867797613144,\n",
       " -0.013481304049491882,\n",
       " 0.03828535974025726,\n",
       " 0.03340554237365723,\n",
       " 0.003595280461013317,\n",
       " 0.03097417950630188,\n",
       " -1.4916331281256134e-08,\n",
       " 0.05118200555443764,\n",
       " -0.019823849201202393,\n",
       " 0.023027753457427025,\n",
       " 0.06885167211294174,\n",
       " 0.013925069943070412,\n",
       " 0.11191117018461227,\n",
       " 0.0006431715446524322,\n",
       " -0.0198556799441576,\n",
       " 0.0007677937974222004,\n",
       " -0.05631176009774208,\n",
       " 0.0739271268248558,\n",
       " -0.020139317959547043,\n",
       " -0.04854604974389076,\n",
       " -0.05239630490541458,\n",
       " 0.03907112032175064,\n",
       " -0.06397897005081177,\n",
       " 0.06225257366895676,\n",
       " 0.12040312588214874,\n",
       " -0.052721668034791946,\n",
       " -0.05464842915534973,\n",
       " 0.07222048193216324,\n",
       " -0.02665841579437256,\n",
       " -0.027944199740886688,\n",
       " 0.06440469622612,\n",
       " -0.031120676547288895,\n",
       " 0.09008685499429703,\n",
       " 0.03834468498826027,\n",
       " 0.08988922089338303,\n",
       " -0.0006594535079784691,\n",
       " 0.10638514161109924,\n",
       " 0.03958602249622345,\n",
       " 0.10484521090984344,\n",
       " 0.00927709136158228,\n",
       " 0.003159248037263751,\n",
       " 0.018407898023724556,\n",
       " -0.04964236170053482,\n",
       " 0.004154442343860865,\n",
       " -0.013140920549631119,\n",
       " 0.047327227890491486,\n",
       " 0.0576469749212265,\n",
       " -0.05649251490831375,\n",
       " 0.005742272827774286,\n",
       " -0.04280475527048111,\n",
       " -0.005208848509937525,\n",
       " -0.01500376034528017,\n",
       " -0.02727748639881611,\n",
       " 0.08134383708238602,\n",
       " -0.03984200581908226,\n",
       " -0.0121234692633152,\n",
       " 0.004334785044193268,\n",
       " -0.04557550325989723,\n",
       " 0.007778063416481018,\n",
       " 0.08313392847776413,\n",
       " 0.05880327150225639,\n",
       " 0.030670439824461937,\n",
       " 0.050807759165763855,\n",
       " -0.022173088043928146,\n",
       " 0.05907447263598442,\n",
       " -0.044390588998794556,\n",
       " 0.012003018520772457,\n",
       " 0.010381373576819897,\n",
       " -0.03194078430533409,\n",
       " -0.06312999129295349,\n",
       " -0.02667856030166149]"
      ]
     },
     "execution_count": 12,
     "metadata": {},
     "output_type": "execute_result"
    }
   ],
   "source": [
    "embedding_model.embed_query(\"how are you\")"
   ]
  },
  {
   "cell_type": "code",
   "execution_count": 18,
   "id": "8b4fa851",
   "metadata": {},
   "outputs": [
    {
     "data": {
      "text/plain": [
       "384"
      ]
     },
     "execution_count": 18,
     "metadata": {},
     "output_type": "execute_result"
    }
   ],
   "source": [
    "len(embedding_model.embed_query(\"how are you\"))"
   ]
  },
  {
   "cell_type": "code",
   "execution_count": 20,
   "id": "7536e217",
   "metadata": {},
   "outputs": [
    {
     "data": {
      "text/plain": [
       "['6bf8144b-9cc4-4c0b-baea-354cc1f09587',\n",
       " '8e2bc6ce-4822-45a8-820d-84d114d75974',\n",
       " '9841adb8-c4c1-4e5b-b1c0-5a343ad5d5b0',\n",
       " '42335f24-ea0a-40ce-90a1-7c5f63c032bd',\n",
       " 'e841f8f7-77c1-47ff-ada0-ebe85ad59bf5']"
      ]
     },
     "execution_count": 20,
     "metadata": {},
     "output_type": "execute_result"
    }
   ],
   "source": [
    "vector_store  = Chroma(collection_name=\"testsamples\",persist_directory=\"TestDB\",embedding_function=embedding_model)\n",
    "vector_store.add_documents(all_doc)"
   ]
  },
  {
   "cell_type": "code",
   "execution_count": 21,
   "id": "d3f69e4c",
   "metadata": {},
   "outputs": [
    {
     "data": {
      "text/plain": [
       "{'ids': ['6bf8144b-9cc4-4c0b-baea-354cc1f09587',\n",
       "  '8e2bc6ce-4822-45a8-820d-84d114d75974',\n",
       "  '9841adb8-c4c1-4e5b-b1c0-5a343ad5d5b0',\n",
       "  '42335f24-ea0a-40ce-90a1-7c5f63c032bd',\n",
       "  'e841f8f7-77c1-47ff-ada0-ebe85ad59bf5'],\n",
       " 'embeddings': None,\n",
       " 'documents': ['Virat Kohli is one of the most successful and consistent batsmen in IPL history. Known for his aggressive batting style and fitness, he has led the Royal Challengers Bangalore in multiple seasons.',\n",
       "  \"Rohit Sharma is the most successful captain in IPL history, leading Mumbai Indians to five titles. He's known for his calm demeanor and ability to play big innings under pressure.\",\n",
       "  'MS Dhoni, famously known as Captain Cool, has led Chennai Super Kings to multiple IPL titles. His finishing skills, wicketkeeping, and leadership are legendary.',\n",
       "  'Jasprit Bumrah is considered one of the best fast bowlers in T20 cricket. Playing for Mumbai Indians, he is known for his yorkers and death-over expertise.',\n",
       "  'Ravindra Jadeja is a dynamic all-rounder who contributes with both bat and ball. Representing Chennai Super Kings, his quick fielding and match-winning performances make him a key player.'],\n",
       " 'uris': None,\n",
       " 'included': ['metadatas', 'documents'],\n",
       " 'data': None,\n",
       " 'metadatas': [{'team': 'Royal Challengers Bangalore'},\n",
       "  {'team': 'Mumbai Indians'},\n",
       "  {'team': 'Chennai Super Kings'},\n",
       "  {'team': 'Mumbai Indians'},\n",
       "  {'team': 'Chennai Super Kings'}]}"
      ]
     },
     "execution_count": 21,
     "metadata": {},
     "output_type": "execute_result"
    }
   ],
   "source": [
    "vector_store.get()"
   ]
  },
  {
   "cell_type": "code",
   "execution_count": 22,
   "id": "c8c906d3",
   "metadata": {},
   "outputs": [
    {
     "data": {
      "text/plain": [
       "{'ids': ['6bf8144b-9cc4-4c0b-baea-354cc1f09587',\n",
       "  '8e2bc6ce-4822-45a8-820d-84d114d75974',\n",
       "  '9841adb8-c4c1-4e5b-b1c0-5a343ad5d5b0',\n",
       "  '42335f24-ea0a-40ce-90a1-7c5f63c032bd',\n",
       "  'e841f8f7-77c1-47ff-ada0-ebe85ad59bf5'],\n",
       " 'embeddings': array([[ 0.00994719,  0.06914336, -0.05147117, ..., -0.03543337,\n",
       "          0.01284807,  0.01248286],\n",
       "        [ 0.00127744,  0.03129854, -0.02375378, ..., -0.00518363,\n",
       "         -0.03280615,  0.02737713],\n",
       "        [-0.10265923,  0.02650807,  0.02271505, ..., -0.03359748,\n",
       "         -0.07984942, -0.01507713],\n",
       "        [ 0.02123389, -0.02468547, -0.04494365, ..., -0.10995807,\n",
       "          0.0057256 ,  0.09915376],\n",
       "        [ 0.0187397 ,  0.0438284 , -0.04304256, ..., -0.07801615,\n",
       "         -0.07840684, -0.00304187]], shape=(5, 384)),\n",
       " 'documents': ['Virat Kohli is one of the most successful and consistent batsmen in IPL history. Known for his aggressive batting style and fitness, he has led the Royal Challengers Bangalore in multiple seasons.',\n",
       "  \"Rohit Sharma is the most successful captain in IPL history, leading Mumbai Indians to five titles. He's known for his calm demeanor and ability to play big innings under pressure.\",\n",
       "  'MS Dhoni, famously known as Captain Cool, has led Chennai Super Kings to multiple IPL titles. His finishing skills, wicketkeeping, and leadership are legendary.',\n",
       "  'Jasprit Bumrah is considered one of the best fast bowlers in T20 cricket. Playing for Mumbai Indians, he is known for his yorkers and death-over expertise.',\n",
       "  'Ravindra Jadeja is a dynamic all-rounder who contributes with both bat and ball. Representing Chennai Super Kings, his quick fielding and match-winning performances make him a key player.'],\n",
       " 'uris': None,\n",
       " 'included': ['embeddings', 'documents', 'metadatas'],\n",
       " 'data': None,\n",
       " 'metadatas': [{'team': 'Royal Challengers Bangalore'},\n",
       "  {'team': 'Mumbai Indians'},\n",
       "  {'team': 'Chennai Super Kings'},\n",
       "  {'team': 'Mumbai Indians'},\n",
       "  {'team': 'Chennai Super Kings'}]}"
      ]
     },
     "execution_count": 22,
     "metadata": {},
     "output_type": "execute_result"
    }
   ],
   "source": [
    "vector_store.get(include=['embeddings','documents', 'metadatas'])"
   ]
  },
  {
   "cell_type": "code",
   "execution_count": 23,
   "id": "d35b9af8",
   "metadata": {},
   "outputs": [
    {
     "data": {
      "text/plain": [
       "[Document(id='6bf8144b-9cc4-4c0b-baea-354cc1f09587', metadata={'team': 'Royal Challengers Bangalore'}, page_content='Virat Kohli is one of the most successful and consistent batsmen in IPL history. Known for his aggressive batting style and fitness, he has led the Royal Challengers Bangalore in multiple seasons.'),\n",
       " Document(id='8e2bc6ce-4822-45a8-820d-84d114d75974', metadata={'team': 'Mumbai Indians'}, page_content=\"Rohit Sharma is the most successful captain in IPL history, leading Mumbai Indians to five titles. He's known for his calm demeanor and ability to play big innings under pressure.\"),\n",
       " Document(id='9841adb8-c4c1-4e5b-b1c0-5a343ad5d5b0', metadata={'team': 'Chennai Super Kings'}, page_content='MS Dhoni, famously known as Captain Cool, has led Chennai Super Kings to multiple IPL titles. His finishing skills, wicketkeeping, and leadership are legendary.'),\n",
       " Document(id='e841f8f7-77c1-47ff-ada0-ebe85ad59bf5', metadata={'team': 'Chennai Super Kings'}, page_content='Ravindra Jadeja is a dynamic all-rounder who contributes with both bat and ball. Representing Chennai Super Kings, his quick fielding and match-winning performances make him a key player.')]"
      ]
     },
     "execution_count": 23,
     "metadata": {},
     "output_type": "execute_result"
    }
   ],
   "source": [
    "vector_store.similarity_search(\n",
    "    query=\"who is cricketers\"\n",
    ")"
   ]
  },
  {
   "cell_type": "code",
   "execution_count": 24,
   "id": "b4bbfc89",
   "metadata": {},
   "outputs": [
    {
     "data": {
      "text/plain": [
       "[(Document(id='42335f24-ea0a-40ce-90a1-7c5f63c032bd', metadata={'team': 'Mumbai Indians'}, page_content='Jasprit Bumrah is considered one of the best fast bowlers in T20 cricket. Playing for Mumbai Indians, he is known for his yorkers and death-over expertise.'),\n",
       "  0.3145588062904776),\n",
       " (Document(id='8e2bc6ce-4822-45a8-820d-84d114d75974', metadata={'team': 'Mumbai Indians'}, page_content=\"Rohit Sharma is the most successful captain in IPL history, leading Mumbai Indians to five titles. He's known for his calm demeanor and ability to play big innings under pressure.\"),\n",
       "  0.18729007518455643)]"
      ]
     },
     "execution_count": 24,
     "metadata": {},
     "output_type": "execute_result"
    }
   ],
   "source": [
    "vector_store.similarity_search_with_relevance_scores(query='Who among these are a bowler?',\n",
    "    k=2)"
   ]
  },
  {
   "cell_type": "code",
   "execution_count": 26,
   "id": "d397d74c",
   "metadata": {},
   "outputs": [
    {
     "data": {
      "text/plain": [
       "[(Document(id='42335f24-ea0a-40ce-90a1-7c5f63c032bd', metadata={'team': 'Mumbai Indians'}, page_content='Jasprit Bumrah is considered one of the best fast bowlers in T20 cricket. Playing for Mumbai Indians, he is known for his yorkers and death-over expertise.'),\n",
       "  0.9693602323532104),\n",
       " (Document(id='8e2bc6ce-4822-45a8-820d-84d114d75974', metadata={'team': 'Mumbai Indians'}, page_content=\"Rohit Sharma is the most successful captain in IPL history, leading Mumbai Indians to five titles. He's known for his calm demeanor and ability to play big innings under pressure.\"),\n",
       "  1.1493453979492188)]"
      ]
     },
     "execution_count": 26,
     "metadata": {},
     "output_type": "execute_result"
    }
   ],
   "source": [
    "# search with similarity score\n",
    "vector_store.similarity_search_with_score(\n",
    "    query='Who among these are a bowler?',\n",
    "    k=2\n",
    ")"
   ]
  },
  {
   "cell_type": "code",
   "execution_count": null,
   "id": "f3627d20",
   "metadata": {},
   "outputs": [
    {
     "data": {
      "text/plain": [
       "[]"
      ]
     },
     "execution_count": 33,
     "metadata": {},
     "output_type": "execute_result"
    }
   ],
   "source": [
    "vector_store.similarity_search_with_score(\n",
    "    query=\"\",\n",
    "    filter={\"team\":\"Chennai Super kings\"}  # used small k \n",
    ")"
   ]
  },
  {
   "cell_type": "code",
   "execution_count": null,
   "id": "c56155c8",
   "metadata": {},
   "outputs": [
    {
     "data": {
      "text/plain": [
       "[(Document(id='9841adb8-c4c1-4e5b-b1c0-5a343ad5d5b0', metadata={'team': 'Chennai Super Kings'}, page_content='MS Dhoni, famously known as Captain Cool, has led Chennai Super Kings to multiple IPL titles. His finishing skills, wicketkeeping, and leadership are legendary.'),\n",
       "  1.8436005115509033),\n",
       " (Document(id='e841f8f7-77c1-47ff-ada0-ebe85ad59bf5', metadata={'team': 'Chennai Super Kings'}, page_content='Ravindra Jadeja is a dynamic all-rounder who contributes with both bat and ball. Representing Chennai Super Kings, his quick fielding and match-winning performances make him a key player.'),\n",
       "  1.890937328338623)]"
      ]
     },
     "execution_count": 29,
     "metadata": {},
     "output_type": "execute_result"
    }
   ],
   "source": [
    "# meta-data filtering\n",
    "vector_store.similarity_search_with_score(\n",
    "    query=\"\",\n",
    "    filter={\"team\": \"Chennai Super Kings\"} # used big Capital K\n",
    ")"
   ]
  },
  {
   "cell_type": "code",
   "execution_count": null,
   "id": "7cd399da",
   "metadata": {},
   "outputs": [],
   "source": [
    "# update documents\n",
    "\n",
    "updated_doc1 = Document(\n",
    "    page_content=\"Virat Kohli, the former captain of Royal Challengers Bangalore (RCB), is renowned for his aggressive leadership and consistent batting performances. He holds the record for the most runs in IPL history, including multiple centuries in a single season. Despite RCB not winning an IPL title under his captaincy, Kohli's passion and fitness set a benchmark for the league. His ability to chase targets and anchor innings has made him one of the most dependable players in T20 cricket.\",\n",
    "    metadata={\"team\": \"Royal Challengers Bangalore\"}\n",
    ")\n",
    "\n",
    "vector_store.update_document(document_id='09a39dc6-3ba6-4ea7-927e-fdda591da5e4',document=updated_doc1)"
   ]
  },
  {
   "cell_type": "code",
   "execution_count": 36,
   "id": "6ccb76bf",
   "metadata": {},
   "outputs": [
    {
     "data": {
      "text/plain": [
       "[(Document(id='6bf8144b-9cc4-4c0b-baea-354cc1f09587', metadata={'team': 'Royal Challengers Bangalore'}, page_content='Virat Kohli is one of the most successful and consistent batsmen in IPL history. Known for his aggressive batting style and fitness, he has led the Royal Challengers Bangalore in multiple seasons.'),\n",
       "  1.8956232070922852)]"
      ]
     },
     "execution_count": 36,
     "metadata": {},
     "output_type": "execute_result"
    }
   ],
   "source": [
    "vector_store.similarity_search_with_score(\n",
    "    query=\"\",\n",
    "    filter={\"team\": \"Royal Challengers Bangalore\"} # used big Capital K\n",
    ")"
   ]
  },
  {
   "cell_type": "code",
   "execution_count": 37,
   "id": "5639cf37",
   "metadata": {},
   "outputs": [
    {
     "data": {
      "text/plain": [
       "{'ids': ['6bf8144b-9cc4-4c0b-baea-354cc1f09587',\n",
       "  '8e2bc6ce-4822-45a8-820d-84d114d75974',\n",
       "  '9841adb8-c4c1-4e5b-b1c0-5a343ad5d5b0',\n",
       "  '42335f24-ea0a-40ce-90a1-7c5f63c032bd',\n",
       "  'e841f8f7-77c1-47ff-ada0-ebe85ad59bf5'],\n",
       " 'embeddings': array([[ 0.00994719,  0.06914336, -0.05147117, ..., -0.03543337,\n",
       "          0.01284807,  0.01248286],\n",
       "        [ 0.00127744,  0.03129854, -0.02375378, ..., -0.00518363,\n",
       "         -0.03280615,  0.02737713],\n",
       "        [-0.10265923,  0.02650807,  0.02271505, ..., -0.03359748,\n",
       "         -0.07984942, -0.01507713],\n",
       "        [ 0.02123389, -0.02468547, -0.04494365, ..., -0.10995807,\n",
       "          0.0057256 ,  0.09915376],\n",
       "        [ 0.0187397 ,  0.0438284 , -0.04304256, ..., -0.07801615,\n",
       "         -0.07840684, -0.00304187]], shape=(5, 384)),\n",
       " 'documents': ['Virat Kohli is one of the most successful and consistent batsmen in IPL history. Known for his aggressive batting style and fitness, he has led the Royal Challengers Bangalore in multiple seasons.',\n",
       "  \"Rohit Sharma is the most successful captain in IPL history, leading Mumbai Indians to five titles. He's known for his calm demeanor and ability to play big innings under pressure.\",\n",
       "  'MS Dhoni, famously known as Captain Cool, has led Chennai Super Kings to multiple IPL titles. His finishing skills, wicketkeeping, and leadership are legendary.',\n",
       "  'Jasprit Bumrah is considered one of the best fast bowlers in T20 cricket. Playing for Mumbai Indians, he is known for his yorkers and death-over expertise.',\n",
       "  'Ravindra Jadeja is a dynamic all-rounder who contributes with both bat and ball. Representing Chennai Super Kings, his quick fielding and match-winning performances make him a key player.'],\n",
       " 'uris': None,\n",
       " 'included': ['embeddings', 'documents', 'metadatas'],\n",
       " 'data': None,\n",
       " 'metadatas': [{'team': 'Royal Challengers Bangalore'},\n",
       "  {'team': 'Mumbai Indians'},\n",
       "  {'team': 'Chennai Super Kings'},\n",
       "  {'team': 'Mumbai Indians'},\n",
       "  {'team': 'Chennai Super Kings'}]}"
      ]
     },
     "execution_count": 37,
     "metadata": {},
     "output_type": "execute_result"
    }
   ],
   "source": [
    "vector_store.get(include=['embeddings','documents', 'metadatas'])"
   ]
  },
  {
   "cell_type": "code",
   "execution_count": 38,
   "id": "30741343",
   "metadata": {},
   "outputs": [],
   "source": [
    "# delete document\n",
    "vector_store.delete(ids=['09a39dc6-3ba6-4ea7-927e-fdda591da5e4'])"
   ]
  },
  {
   "cell_type": "code",
   "execution_count": 39,
   "id": "94d2f16d",
   "metadata": {},
   "outputs": [
    {
     "data": {
      "text/plain": [
       "{'ids': ['6bf8144b-9cc4-4c0b-baea-354cc1f09587',\n",
       "  '8e2bc6ce-4822-45a8-820d-84d114d75974',\n",
       "  '9841adb8-c4c1-4e5b-b1c0-5a343ad5d5b0',\n",
       "  '42335f24-ea0a-40ce-90a1-7c5f63c032bd',\n",
       "  'e841f8f7-77c1-47ff-ada0-ebe85ad59bf5'],\n",
       " 'embeddings': array([[ 0.00994719,  0.06914336, -0.05147117, ..., -0.03543337,\n",
       "          0.01284807,  0.01248286],\n",
       "        [ 0.00127744,  0.03129854, -0.02375378, ..., -0.00518363,\n",
       "         -0.03280615,  0.02737713],\n",
       "        [-0.10265923,  0.02650807,  0.02271505, ..., -0.03359748,\n",
       "         -0.07984942, -0.01507713],\n",
       "        [ 0.02123389, -0.02468547, -0.04494365, ..., -0.10995807,\n",
       "          0.0057256 ,  0.09915376],\n",
       "        [ 0.0187397 ,  0.0438284 , -0.04304256, ..., -0.07801615,\n",
       "         -0.07840684, -0.00304187]], shape=(5, 384)),\n",
       " 'documents': ['Virat Kohli is one of the most successful and consistent batsmen in IPL history. Known for his aggressive batting style and fitness, he has led the Royal Challengers Bangalore in multiple seasons.',\n",
       "  \"Rohit Sharma is the most successful captain in IPL history, leading Mumbai Indians to five titles. He's known for his calm demeanor and ability to play big innings under pressure.\",\n",
       "  'MS Dhoni, famously known as Captain Cool, has led Chennai Super Kings to multiple IPL titles. His finishing skills, wicketkeeping, and leadership are legendary.',\n",
       "  'Jasprit Bumrah is considered one of the best fast bowlers in T20 cricket. Playing for Mumbai Indians, he is known for his yorkers and death-over expertise.',\n",
       "  'Ravindra Jadeja is a dynamic all-rounder who contributes with both bat and ball. Representing Chennai Super Kings, his quick fielding and match-winning performances make him a key player.'],\n",
       " 'uris': None,\n",
       " 'included': ['embeddings', 'documents', 'metadatas'],\n",
       " 'data': None,\n",
       " 'metadatas': [{'team': 'Royal Challengers Bangalore'},\n",
       "  {'team': 'Mumbai Indians'},\n",
       "  {'team': 'Chennai Super Kings'},\n",
       "  {'team': 'Mumbai Indians'},\n",
       "  {'team': 'Chennai Super Kings'}]}"
      ]
     },
     "execution_count": 39,
     "metadata": {},
     "output_type": "execute_result"
    }
   ],
   "source": [
    "# view documents\n",
    "vector_store.get(include=['embeddings','documents', 'metadatas'])"
   ]
  },
  {
   "cell_type": "code",
   "execution_count": null,
   "id": "bdfb1ff0",
   "metadata": {},
   "outputs": [],
   "source": []
  }
 ],
 "metadata": {
  "kernelspec": {
   "display_name": "llmenv",
   "language": "python",
   "name": "python3"
  },
  "language_info": {
   "codemirror_mode": {
    "name": "ipython",
    "version": 3
   },
   "file_extension": ".py",
   "mimetype": "text/x-python",
   "name": "python",
   "nbconvert_exporter": "python",
   "pygments_lexer": "ipython3",
   "version": "3.12.0"
  }
 },
 "nbformat": 4,
 "nbformat_minor": 5
}
